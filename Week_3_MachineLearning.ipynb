{
  "cells": [
    {
      "cell_type": "markdown",
      "metadata": {
        "id": "view-in-github",
        "colab_type": "text"
      },
      "source": [
        "<a href=\"https://colab.research.google.com/github/Kimi-Gingercat/Kimi-IAT360-Week3-ClassicML/blob/myCopy/Week_3_MachineLearning.ipynb\" target=\"_parent\"><img src=\"https://colab.research.google.com/assets/colab-badge.svg\" alt=\"Open In Colab\"/></a>"
      ]
    },
    {
      "cell_type": "code",
      "source": [
        "from google.colab import drive\n",
        "drive.mount('/content/drive')"
      ],
      "metadata": {
        "colab": {
          "base_uri": "https://localhost:8080/"
        },
        "id": "ywb8NifF9XN3",
        "outputId": "02574e3b-b411-4a94-d624-1abe3bcb3e45"
      },
      "execution_count": null,
      "outputs": [
        {
          "output_type": "stream",
          "name": "stdout",
          "text": [
            "Drive already mounted at /content/drive; to attempt to forcibly remount, call drive.mount(\"/content/drive\", force_remount=True).\n"
          ]
        }
      ]
    },
    {
      "cell_type": "markdown",
      "metadata": {
        "id": "q5CvOjjrL9gw"
      },
      "source": [
        "<center><h1> Introduction to Audio Classification with Machine Learning Models </h1></center>\n",
        "\n",
        "\n",
        "\n",
        "### Purpose\n",
        "This notebook serves as an introduction to working with audio data for classification problems; it is meant as a learning resource rather than a demonstration of the state-of-the-art. The techniques mentioned in this notebook apply not only to classification problems, but to regression problems and problems dealing with other types of input data as well. I provide an introduction to a few key machine learning models and the logic in choosing their hyperparameters. These objectives are framed by the task of recognizing emotion from snippets of speech audio.\n",
        "\n",
        " Training data should be used strictly for training a model, validation data strictly for tuning a model, and test data strictly to evaluate a model once it is tuned - a model should never be tuned to perform better on test data.\n",
        "\n",
        "\n",
        "\n",
        "\n",
        "\n",
        "Classic machine learning models such as Support Vector Machines (SVM), k Nearest Neighbours (kNN), and Random Forests have distinct advantages to deep neural networks in many tasks."
      ]
    },
    {
      "cell_type": "markdown",
      "metadata": {
        "id": "QQsTfGREL9g1"
      },
      "source": [
        "<!--TABLE OF CONTENTS-->\n",
        "\n",
        "\n",
        "# Table of Contents\n",
        "  - [Intro: Speech Emotion Recognition on the RAVDESS dataset](#Intro:-Speech-Emotion-Recognition-on-the-RAVDESS-dataset)\n",
        "  - [Machine Learning Process Overview](#Machine-Learning-Process-Overview)\n",
        "  - [Feature Extraction](#Feature-Extraction)\n",
        "    - [Load the Dataset and Compute Features](#Load-the-Dataset-and-Compute-Features)\n",
        "    - [Feature Scaling](#Feature-Scaling)\n",
        "  - [Classical Machine Learning Models](#Classical-Machine-Learning-Models)\n",
        "    - [Training: The 80/20 Split and Validation](#Training:-The-80/20-Split-and-Validation)\n",
        "    - [Comparing Models](#Comparing-Models)\n",
        "    - [The Support Vector Machine Classifier](#The-Support-Vector-Machine-Classifier)\n",
        "    - [k Nearest Neighbours](#k-Nearest-Neighbours)\n",
        "    - [Random Forests](#Random-Forests)\n",
        "\n"
      ]
    },
    {
      "cell_type": "markdown",
      "metadata": {
        "pycharm": {
          "name": "#%% md\n"
        },
        "id": "hZUcbr4PL9g2"
      },
      "source": [
        "## Intro: Speech Emotion Recognition on the RAVDESS dataset\n",
        "In this notebook we explore the most common machine learning models, specifically those available off the shelf in scikit-learn.\n",
        "\n",
        "I'm going to use the RAVDESS dataset (Ryerson Audio-Visual Database of Emotional Speech and Song dataset), created by Steven Livingstone and Frank Russo of Ryerson University. <br>\n",
        "[Details of the RAVDESS dataset](https://smartlaboratory.org/ravdess/) <br>\n",
        "[Download the dataset used in this notebook](https://zenodo.org/record/1188976) <br> Scroll half-way down the page and find \"Audio_Speech_Actors_01-24\"<br>\n",
        "\n",
        "We're going to use the audio-only speech portion of the RAVDESS dataset, ~200MB.\n",
        "Audio is sourced from 24 actors (12 male, 12 female) repeating two sentences with\n",
        "a variety of emotions and intensity. We get 1440 speech files (24 actors * 60 recordings per actor). Each audio sample has been rated  by a human 10 times for emotional quality.\n",
        "\n",
        "## Machine Learning Process Overview\n",
        "1. Feature Engineering: Choose and define the properties which our model will use to evaluate the audio files. <br>\n",
        "2. Feature Extraction: Compute the features for each audio file and build a feature matrix representing all audio files. <br>\n",
        "3. Model exploration: Test candidate models that make sense for the properies of the dataset\n",
        "4. Training the MLP Classifier model: Choose and optimize the properties of our model on validation data - hyperparameters and architechture.  <br>\n",
        "5. Evaluate our model's performance: Evaluate our model's accuracy on validation data and score it against test data which it has never seen in training.<br>\n",
        "6. Explore options for improving our model: Is our dataset the right size? Is our model too complex or too simple? <br>\n"
      ]
    },
    {
      "cell_type": "code",
      "source": [
        "#importing the required libraries\n",
        "\n",
        "import matplotlib.pyplot as plt\n",
        "import pandas as pd\n",
        "import numpy as np\n",
        "import librosa.display\n",
        "import soundfile\n",
        "import os\n",
        "# matplotlib complains about the behaviour of librosa.display, so we'll ignore those warnings:\n",
        "import warnings; warnings.filterwarnings('ignore')"
      ],
      "metadata": {
        "id": "b2IL0uT19_3A"
      },
      "execution_count": 55,
      "outputs": []
    },
    {
      "cell_type": "markdown",
      "metadata": {
        "pycharm": {
          "name": "#%% md\n"
        },
        "id": "eu8VPhDmL9hC"
      },
      "source": [
        "## Feature Extraction\n",
        "We're going to take full advantage of librosa, a Python library enabling audio analysis and feature extraction.\n",
        "Librosa abstracts away all the math and most of the details of mel spectrorgams, chromagrams, and MFCC.\n",
        "Although closely related, we're going to take the Mel Spectrogram, MFCC, and chromagrams of each audio file as separate features to try\n",
        "and have bit more discriminatory power between samples. <br>\n",
        "\n",
        "Let's build our feature extraction functions to get a chromagram, a mel spectorgram, and MFC coefficients for each of our audio files. Because the chromagram, mel spectrogram and MFCCs are calculated on audio frames produced by STFT, we're going to get a matrix back from each function, so we'll take the mean of those matrices to produce a single feature array for each feature and each audio sample, i.e. 3 feature arrays per audio sample.\n",
        "\n",
        "**Chromagram**: Will produce 12 features; One for each of 12 pitch classes\n",
        "\n",
        "**Mel Spectrogram**: Will produce 128 features; We've defined the number of mel frequency bands at n_mels=128\n",
        "\n",
        "**MFCC**: Will produce 40 MFCCs; I've set the number of coefficients to return at n_mfcc=40 which I found to work well"
      ]
    },
    {
      "cell_type": "code",
      "execution_count": 56,
      "metadata": {
        "pycharm": {
          "name": "#%%\n"
        },
        "id": "qTe93WYTL9hD"
      },
      "outputs": [],
      "source": [
        "\n",
        "\n",
        "def feature_chromagram(waveform, sample_rate):\n",
        "    # STFT computed here explicitly; mel spectrogram and MFCC functions do this under the hood\n",
        "    stft_spectrogram=np.abs(librosa.stft(waveform))\n",
        "    # Produce the chromagram for all STFT frames and get the mean of each column of the resulting matrix to create a feature array\n",
        "    chromagram=np.mean(librosa.feature.chroma_stft(S=stft_spectrogram, sr=sample_rate).T,axis=0)\n",
        "    return chromagram\n",
        "\n",
        "def feature_melspectrogram(waveform, sample_rate):\n",
        "    # Produce the mel spectrogram for all STFT frames and get the mean of each column of the resulting matrix to create a feature array\n",
        "    # Using 8khz as upper frequency bound should be enough for most speech classification tasks\n",
        "    melspectrogram=np.mean(librosa.feature.melspectrogram(y=waveform, sr=sample_rate, n_mels=128, fmax=8000).T,axis=0)\n",
        "    return melspectrogram\n",
        "\n",
        "def feature_mfcc(waveform, sample_rate):\n",
        "    # Compute the MFCCs for all STFT frames and get the mean of each column of the resulting matrix to create a feature array\n",
        "    # 40 filterbanks = 40 coefficients\n",
        "    mfc_coefficients=np.mean(librosa.feature.mfcc(y=waveform, sr=sample_rate, n_mfcc=40).T, axis=0)\n",
        "    return mfc_coefficients"
      ]
    },
    {
      "cell_type": "markdown",
      "metadata": {
        "pycharm": {
          "name": "#%% md\n"
        },
        "id": "xjFXIfC2L9hD"
      },
      "source": [
        "We're going to wrap our feature extraction functions so we only have to load each audio file once. After extracting our 3 audio features as NumPy arrays representing a time series, we're going to\n",
        "stack them horizontally to create a single feature array."
      ]
    },
    {
      "cell_type": "code",
      "execution_count": 57,
      "metadata": {
        "pycharm": {
          "name": "#%%\n"
        },
        "id": "xPMw9ijJL9hE"
      },
      "outputs": [],
      "source": [
        "def get_features(file):\n",
        "    # load an individual soundfile\n",
        "     with soundfile.SoundFile(file) as audio:\n",
        "        waveform = audio.read(dtype=\"float32\")\n",
        "        sample_rate = audio.samplerate\n",
        "        # compute features of soundfile\n",
        "        chromagram = feature_chromagram(waveform, sample_rate)\n",
        "        melspectrogram = feature_melspectrogram(waveform, sample_rate)\n",
        "        mfc_coefficients = feature_mfcc(waveform, sample_rate)\n",
        "\n",
        "        feature_matrix=np.array([])\n",
        "\n",
        "        # Check the shape of chromagram\n",
        "        if chromagram.ndim > 1 and chromagram.shape[1] > 1:\n",
        "            #print(f\"Returning zero vector for chromagram size: {file} (shape: {chromagram.shape})\")\n",
        "            chromagram = np.zeros((12,))  # Return a zero vector of size (12,)\n",
        "\n",
        "        # Check the shape of mel spectrogram\n",
        "        if melspectrogram.ndim > 1 and melspectrogram.shape[1] > 1:\n",
        "            #print(f\"Returning zero vector for mel spectrogram size: {file} (shape: {melspectrogram.shape})\")\n",
        "            melspectrogram = np.zeros((128,))  # Return a zero vector of size (128,)\n",
        "\n",
        "        # Check the shape of MFCC coefficients\n",
        "        if mfc_coefficients.ndim > 1 and mfc_coefficients.shape[1] > 1:\n",
        "            #print(f\"Returning zero vector for MFCC size: {file} (shape: {mfc_coefficients.shape})\")\n",
        "            mfc_coefficients = np.zeros((40,))  # Return a zero vector of size (40,)\n",
        "\n",
        "        # use np.hstack to stack our feature arrays horizontally to create a feature matrix\n",
        "        feature_matrix = np.hstack((chromagram, melspectrogram, mfc_coefficients))\n",
        "\n",
        "        return feature_matrix"
      ]
    },
    {
      "cell_type": "markdown",
      "metadata": {
        "pycharm": {
          "name": "#%% md\n"
        },
        "id": "c-C6g6psL9hE"
      },
      "source": [
        "### Load the Dataset and Compute Features\n",
        "We have to understand the labelling of the RAVDESS dataset to find the ground truth emotion for each sample.\n",
        "Each file is labelled with 7 numbers delimited by a \"-\".\n",
        "Most of the numbers describe metadata about the audio samples such as their format (video and/or audio),\n",
        "whether the audio is a song or statement, which of two statements is being read and by which actor.\n",
        "\n",
        "The third and fourth numbers pertain to the emotional quality of each sample. The third number is in the range of 1-8 with each number representing an emotion.\n",
        "The fourth number is either 1 or 2, representing normal (1) or strong (2) emotional intensity.\n",
        "\n",
        "We're going to define a dictionary based on the third number (emotion) and assign an emotion to each number as specified by the RAVDESS dataset:"
      ]
    },
    {
      "cell_type": "code",
      "execution_count": 58,
      "metadata": {
        "pycharm": {
          "name": "#%%\n"
        },
        "id": "z-Pu_fB7L9hF"
      },
      "outputs": [],
      "source": [
        "#Emotions in the RAVDESS dataset\n",
        "emotions_dict ={\n",
        "  '01':'neutral',\n",
        "  '02':'calm',\n",
        "  '03':'happy',\n",
        "  '04':'sad',\n",
        "  '05':'angry',\n",
        "  '06':'fearful',\n",
        "  '07':'disgust',\n",
        "  '08':'surprised'\n",
        "}"
      ]
    },
    {
      "cell_type": "markdown",
      "metadata": {
        "pycharm": {
          "name": "#%% md\n"
        },
        "id": "pTlsUOwXL9hF"
      },
      "source": [
        "Finally, let's load our entire dataset and compute the features of each audio file:"
      ]
    },
    {
      "cell_type": "code",
      "execution_count": 59,
      "metadata": {
        "pycharm": {
          "name": "#%%\n"
        },
        "id": "mAh2AYMpL9hF"
      },
      "outputs": [],
      "source": [
        "import os, glob\n",
        "\n",
        "def load_data():\n",
        "    X,y=[],[]\n",
        "    count = 0\n",
        "    for file in glob.glob(\"Documents/IAT360/Assign2/Audio Data/Actor_*/*.wav\"):\n",
        "        file_name=os.path.basename(file)\n",
        "        emotion=emotions_dict[file_name.split(\"-\")[2]]\n",
        "        features = get_features(file)\n",
        "        X.append(features)\n",
        "        y.append(emotion)\n",
        "        count += 1\n",
        "        # '\\r' + end='' results in printing over same line\n",
        "        print('\\r' + f' Processed {count}/{1440} audio samples',end=' ')\n",
        "    # Return arrays to plug into sklearn's cross-validation algorithms\n",
        "    return np.array(X), np.array(y)"
      ]
    },
    {
      "cell_type": "code",
      "source": [
        "def load_my_data():\n",
        "    X,y=[],[]\n",
        "    count = 0\n",
        "    for file in glob.glob(\"Documents/IAT360/Assign2/My Voice wav/*.wav\"):\n",
        "        file_name=os.path.basename(file)\n",
        "        emotion=emotions_dict[file_name.split(\"-\")[2]]\n",
        "        features = get_features(file)\n",
        "        X.append(features)\n",
        "        y.append(emotion)\n",
        "        count += 1\n",
        "        # '\\r' + end='' results in printing over same line\n",
        "        print('\\r' + f' Processed {count}/{1440} audio samples',end=' ')\n",
        "    # Return arrays to plug into sklearn's cross-validation algorithms\n",
        "    return np.array(X), np.array(y)"
      ],
      "metadata": {
        "id": "KdT6gpoP9iaB"
      },
      "execution_count": 60,
      "outputs": []
    },
    {
      "cell_type": "markdown",
      "metadata": {
        "pycharm": {
          "name": "#%% md\n"
        },
        "id": "3Cf8q4K5L9hG"
      },
      "source": [
        "Compute the feature matrix and read the emotion labels for the entire dataset.\n",
        "Note that our regressor (independent/explanatory variable), usually denoted X, is named 'features', and our regressand (dependent variable), usually denoted y, is named 'emotions'."
      ]
    },
    {
      "cell_type": "code",
      "execution_count": 61,
      "metadata": {
        "pycharm": {
          "name": "#%%\n"
        },
        "id": "XeKE591aL9hG",
        "outputId": "2473f2ad-7b0b-4fd6-ad77-80c75532d97b",
        "colab": {
          "base_uri": "https://localhost:8080/"
        }
      },
      "outputs": [
        {
          "output_type": "stream",
          "name": "stdout",
          "text": [
            " Processed 16/1440 audio samples "
          ]
        }
      ],
      "source": [
        "features, emotions = load_data()\n",
        "my_features,my_emotions=load_my_data()"
      ]
    },
    {
      "cell_type": "markdown",
      "metadata": {
        "pycharm": {
          "name": "#%% md\n"
        },
        "id": "RVUa7RAuL9hG"
      },
      "source": [
        "Let's see what the features we extracted look like, **also for saving both the features matrix as well as emotions array, we need to convert them to pandas dataframe.**"
      ]
    },
    {
      "cell_type": "code",
      "execution_count": 62,
      "metadata": {
        "pycharm": {
          "name": "#%%\n"
        },
        "id": "mzxX583yL9hG",
        "outputId": "f85a7b03-6137-4986-a551-acbe6c741860",
        "colab": {
          "base_uri": "https://localhost:8080/",
          "height": 497
        }
      },
      "outputs": [
        {
          "output_type": "stream",
          "name": "stdout",
          "text": [
            "\n",
            "Audio samples represented: 1439\n",
            "Numerical features extracted per sample: 180\n"
          ]
        },
        {
          "output_type": "execute_result",
          "data": {
            "text/plain": [
              "           0         1         2         3         4         5         6    \\\n",
              "0     0.552245  0.504338  0.512779  0.550540  0.572176  0.615567  0.603708   \n",
              "1     0.550732  0.508484  0.466809  0.438485  0.428218  0.445352  0.444528   \n",
              "2     0.672768  0.601451  0.548317  0.477805  0.453192  0.516665  0.570100   \n",
              "3     0.602309  0.605448  0.558788  0.529441  0.546189  0.568049  0.566027   \n",
              "4     0.556555  0.503434  0.473118  0.479222  0.495470  0.522490  0.532196   \n",
              "...        ...       ...       ...       ...       ...       ...       ...   \n",
              "1434  0.664177  0.633587  0.590743  0.601933  0.623832  0.643299  0.671203   \n",
              "1435  0.697806  0.658317  0.614802  0.639169  0.717383  0.743908  0.781170   \n",
              "1436  0.628023  0.596605  0.643935  0.655228  0.659819  0.725635  0.808151   \n",
              "1437  0.630163  0.652205  0.637307  0.684746  0.764457  0.795282  0.819001   \n",
              "1438  0.619704  0.639446  0.650099  0.693850  0.721269  0.756799  0.789992   \n",
              "\n",
              "           7         8         9    ...       170       171       172  \\\n",
              "0     0.573230  0.593454  0.603834  ... -3.543537 -0.912676 -1.747537   \n",
              "1     0.444478  0.500419  0.551672  ...  2.333152  3.619089  0.793563   \n",
              "2     0.599750  0.647746  0.692148  ...  0.283253  0.218117 -1.928165   \n",
              "3     0.523464  0.526789  0.552809  ...  2.176564  3.904047  0.980935   \n",
              "4     0.540681  0.545616  0.512521  ... -1.306030  0.050261 -0.992539   \n",
              "...        ...       ...       ...  ...       ...       ...       ...   \n",
              "1434  0.668196  0.683204  0.658824  ...  5.234397  5.000974  4.120271   \n",
              "1435  0.749796  0.722322  0.715267  ... -1.211285  0.060299 -1.140080   \n",
              "1436  0.814369  0.771093  0.722508  ... -1.125915  0.213711 -1.729091   \n",
              "1437  0.802949  0.774911  0.734926  ... -2.221260 -0.709731 -1.652230   \n",
              "1438  0.768492  0.766670  0.698196  ... -1.135965 -0.554937 -1.294901   \n",
              "\n",
              "           173       174       175       176       177       178       179  \n",
              "0    -2.299447 -0.025205  2.449470  2.116510  3.361054  2.086241  0.376519  \n",
              "1     0.743431  0.660723 -0.254914 -0.967536  0.378563 -0.338074 -0.463241  \n",
              "2    -2.486516 -0.530147  0.354905  0.463640  0.581006 -2.091462 -1.899596  \n",
              "3     1.160923 -0.694902 -0.969963 -0.234802  0.941701  0.695973  0.430566  \n",
              "4    -0.213367 -0.351018 -1.462262 -2.454565 -1.044801 -0.298479  0.118208  \n",
              "...        ...       ...       ...       ...       ...       ...       ...  \n",
              "1434  3.053777  2.119890  2.965642  2.442994  2.014850  3.167833  4.008449  \n",
              "1435  0.446977  0.614657  0.430341  0.332445 -0.197219  0.797524  2.606972  \n",
              "1436  0.776150  0.564957  2.507703  0.997837  0.844502 -0.108339  2.037053  \n",
              "1437 -1.931097 -1.620286  1.130693  0.274002  2.252403  2.537369  3.869970  \n",
              "1438 -0.990536 -0.618531  0.289875 -0.120279  0.519724  1.181626  2.576108  \n",
              "\n",
              "[1439 rows x 180 columns]"
            ],
            "text/html": [
              "<div>\n",
              "<style scoped>\n",
              "    .dataframe tbody tr th:only-of-type {\n",
              "        vertical-align: middle;\n",
              "    }\n",
              "\n",
              "    .dataframe tbody tr th {\n",
              "        vertical-align: top;\n",
              "    }\n",
              "\n",
              "    .dataframe thead th {\n",
              "        text-align: right;\n",
              "    }\n",
              "</style>\n",
              "<table border=\"1\" class=\"dataframe\">\n",
              "  <thead>\n",
              "    <tr style=\"text-align: right;\">\n",
              "      <th></th>\n",
              "      <th>0</th>\n",
              "      <th>1</th>\n",
              "      <th>2</th>\n",
              "      <th>3</th>\n",
              "      <th>4</th>\n",
              "      <th>5</th>\n",
              "      <th>6</th>\n",
              "      <th>7</th>\n",
              "      <th>8</th>\n",
              "      <th>9</th>\n",
              "      <th>...</th>\n",
              "      <th>170</th>\n",
              "      <th>171</th>\n",
              "      <th>172</th>\n",
              "      <th>173</th>\n",
              "      <th>174</th>\n",
              "      <th>175</th>\n",
              "      <th>176</th>\n",
              "      <th>177</th>\n",
              "      <th>178</th>\n",
              "      <th>179</th>\n",
              "    </tr>\n",
              "  </thead>\n",
              "  <tbody>\n",
              "    <tr>\n",
              "      <th>0</th>\n",
              "      <td>0.552245</td>\n",
              "      <td>0.504338</td>\n",
              "      <td>0.512779</td>\n",
              "      <td>0.550540</td>\n",
              "      <td>0.572176</td>\n",
              "      <td>0.615567</td>\n",
              "      <td>0.603708</td>\n",
              "      <td>0.573230</td>\n",
              "      <td>0.593454</td>\n",
              "      <td>0.603834</td>\n",
              "      <td>...</td>\n",
              "      <td>-3.543537</td>\n",
              "      <td>-0.912676</td>\n",
              "      <td>-1.747537</td>\n",
              "      <td>-2.299447</td>\n",
              "      <td>-0.025205</td>\n",
              "      <td>2.449470</td>\n",
              "      <td>2.116510</td>\n",
              "      <td>3.361054</td>\n",
              "      <td>2.086241</td>\n",
              "      <td>0.376519</td>\n",
              "    </tr>\n",
              "    <tr>\n",
              "      <th>1</th>\n",
              "      <td>0.550732</td>\n",
              "      <td>0.508484</td>\n",
              "      <td>0.466809</td>\n",
              "      <td>0.438485</td>\n",
              "      <td>0.428218</td>\n",
              "      <td>0.445352</td>\n",
              "      <td>0.444528</td>\n",
              "      <td>0.444478</td>\n",
              "      <td>0.500419</td>\n",
              "      <td>0.551672</td>\n",
              "      <td>...</td>\n",
              "      <td>2.333152</td>\n",
              "      <td>3.619089</td>\n",
              "      <td>0.793563</td>\n",
              "      <td>0.743431</td>\n",
              "      <td>0.660723</td>\n",
              "      <td>-0.254914</td>\n",
              "      <td>-0.967536</td>\n",
              "      <td>0.378563</td>\n",
              "      <td>-0.338074</td>\n",
              "      <td>-0.463241</td>\n",
              "    </tr>\n",
              "    <tr>\n",
              "      <th>2</th>\n",
              "      <td>0.672768</td>\n",
              "      <td>0.601451</td>\n",
              "      <td>0.548317</td>\n",
              "      <td>0.477805</td>\n",
              "      <td>0.453192</td>\n",
              "      <td>0.516665</td>\n",
              "      <td>0.570100</td>\n",
              "      <td>0.599750</td>\n",
              "      <td>0.647746</td>\n",
              "      <td>0.692148</td>\n",
              "      <td>...</td>\n",
              "      <td>0.283253</td>\n",
              "      <td>0.218117</td>\n",
              "      <td>-1.928165</td>\n",
              "      <td>-2.486516</td>\n",
              "      <td>-0.530147</td>\n",
              "      <td>0.354905</td>\n",
              "      <td>0.463640</td>\n",
              "      <td>0.581006</td>\n",
              "      <td>-2.091462</td>\n",
              "      <td>-1.899596</td>\n",
              "    </tr>\n",
              "    <tr>\n",
              "      <th>3</th>\n",
              "      <td>0.602309</td>\n",
              "      <td>0.605448</td>\n",
              "      <td>0.558788</td>\n",
              "      <td>0.529441</td>\n",
              "      <td>0.546189</td>\n",
              "      <td>0.568049</td>\n",
              "      <td>0.566027</td>\n",
              "      <td>0.523464</td>\n",
              "      <td>0.526789</td>\n",
              "      <td>0.552809</td>\n",
              "      <td>...</td>\n",
              "      <td>2.176564</td>\n",
              "      <td>3.904047</td>\n",
              "      <td>0.980935</td>\n",
              "      <td>1.160923</td>\n",
              "      <td>-0.694902</td>\n",
              "      <td>-0.969963</td>\n",
              "      <td>-0.234802</td>\n",
              "      <td>0.941701</td>\n",
              "      <td>0.695973</td>\n",
              "      <td>0.430566</td>\n",
              "    </tr>\n",
              "    <tr>\n",
              "      <th>4</th>\n",
              "      <td>0.556555</td>\n",
              "      <td>0.503434</td>\n",
              "      <td>0.473118</td>\n",
              "      <td>0.479222</td>\n",
              "      <td>0.495470</td>\n",
              "      <td>0.522490</td>\n",
              "      <td>0.532196</td>\n",
              "      <td>0.540681</td>\n",
              "      <td>0.545616</td>\n",
              "      <td>0.512521</td>\n",
              "      <td>...</td>\n",
              "      <td>-1.306030</td>\n",
              "      <td>0.050261</td>\n",
              "      <td>-0.992539</td>\n",
              "      <td>-0.213367</td>\n",
              "      <td>-0.351018</td>\n",
              "      <td>-1.462262</td>\n",
              "      <td>-2.454565</td>\n",
              "      <td>-1.044801</td>\n",
              "      <td>-0.298479</td>\n",
              "      <td>0.118208</td>\n",
              "    </tr>\n",
              "    <tr>\n",
              "      <th>...</th>\n",
              "      <td>...</td>\n",
              "      <td>...</td>\n",
              "      <td>...</td>\n",
              "      <td>...</td>\n",
              "      <td>...</td>\n",
              "      <td>...</td>\n",
              "      <td>...</td>\n",
              "      <td>...</td>\n",
              "      <td>...</td>\n",
              "      <td>...</td>\n",
              "      <td>...</td>\n",
              "      <td>...</td>\n",
              "      <td>...</td>\n",
              "      <td>...</td>\n",
              "      <td>...</td>\n",
              "      <td>...</td>\n",
              "      <td>...</td>\n",
              "      <td>...</td>\n",
              "      <td>...</td>\n",
              "      <td>...</td>\n",
              "      <td>...</td>\n",
              "    </tr>\n",
              "    <tr>\n",
              "      <th>1434</th>\n",
              "      <td>0.664177</td>\n",
              "      <td>0.633587</td>\n",
              "      <td>0.590743</td>\n",
              "      <td>0.601933</td>\n",
              "      <td>0.623832</td>\n",
              "      <td>0.643299</td>\n",
              "      <td>0.671203</td>\n",
              "      <td>0.668196</td>\n",
              "      <td>0.683204</td>\n",
              "      <td>0.658824</td>\n",
              "      <td>...</td>\n",
              "      <td>5.234397</td>\n",
              "      <td>5.000974</td>\n",
              "      <td>4.120271</td>\n",
              "      <td>3.053777</td>\n",
              "      <td>2.119890</td>\n",
              "      <td>2.965642</td>\n",
              "      <td>2.442994</td>\n",
              "      <td>2.014850</td>\n",
              "      <td>3.167833</td>\n",
              "      <td>4.008449</td>\n",
              "    </tr>\n",
              "    <tr>\n",
              "      <th>1435</th>\n",
              "      <td>0.697806</td>\n",
              "      <td>0.658317</td>\n",
              "      <td>0.614802</td>\n",
              "      <td>0.639169</td>\n",
              "      <td>0.717383</td>\n",
              "      <td>0.743908</td>\n",
              "      <td>0.781170</td>\n",
              "      <td>0.749796</td>\n",
              "      <td>0.722322</td>\n",
              "      <td>0.715267</td>\n",
              "      <td>...</td>\n",
              "      <td>-1.211285</td>\n",
              "      <td>0.060299</td>\n",
              "      <td>-1.140080</td>\n",
              "      <td>0.446977</td>\n",
              "      <td>0.614657</td>\n",
              "      <td>0.430341</td>\n",
              "      <td>0.332445</td>\n",
              "      <td>-0.197219</td>\n",
              "      <td>0.797524</td>\n",
              "      <td>2.606972</td>\n",
              "    </tr>\n",
              "    <tr>\n",
              "      <th>1436</th>\n",
              "      <td>0.628023</td>\n",
              "      <td>0.596605</td>\n",
              "      <td>0.643935</td>\n",
              "      <td>0.655228</td>\n",
              "      <td>0.659819</td>\n",
              "      <td>0.725635</td>\n",
              "      <td>0.808151</td>\n",
              "      <td>0.814369</td>\n",
              "      <td>0.771093</td>\n",
              "      <td>0.722508</td>\n",
              "      <td>...</td>\n",
              "      <td>-1.125915</td>\n",
              "      <td>0.213711</td>\n",
              "      <td>-1.729091</td>\n",
              "      <td>0.776150</td>\n",
              "      <td>0.564957</td>\n",
              "      <td>2.507703</td>\n",
              "      <td>0.997837</td>\n",
              "      <td>0.844502</td>\n",
              "      <td>-0.108339</td>\n",
              "      <td>2.037053</td>\n",
              "    </tr>\n",
              "    <tr>\n",
              "      <th>1437</th>\n",
              "      <td>0.630163</td>\n",
              "      <td>0.652205</td>\n",
              "      <td>0.637307</td>\n",
              "      <td>0.684746</td>\n",
              "      <td>0.764457</td>\n",
              "      <td>0.795282</td>\n",
              "      <td>0.819001</td>\n",
              "      <td>0.802949</td>\n",
              "      <td>0.774911</td>\n",
              "      <td>0.734926</td>\n",
              "      <td>...</td>\n",
              "      <td>-2.221260</td>\n",
              "      <td>-0.709731</td>\n",
              "      <td>-1.652230</td>\n",
              "      <td>-1.931097</td>\n",
              "      <td>-1.620286</td>\n",
              "      <td>1.130693</td>\n",
              "      <td>0.274002</td>\n",
              "      <td>2.252403</td>\n",
              "      <td>2.537369</td>\n",
              "      <td>3.869970</td>\n",
              "    </tr>\n",
              "    <tr>\n",
              "      <th>1438</th>\n",
              "      <td>0.619704</td>\n",
              "      <td>0.639446</td>\n",
              "      <td>0.650099</td>\n",
              "      <td>0.693850</td>\n",
              "      <td>0.721269</td>\n",
              "      <td>0.756799</td>\n",
              "      <td>0.789992</td>\n",
              "      <td>0.768492</td>\n",
              "      <td>0.766670</td>\n",
              "      <td>0.698196</td>\n",
              "      <td>...</td>\n",
              "      <td>-1.135965</td>\n",
              "      <td>-0.554937</td>\n",
              "      <td>-1.294901</td>\n",
              "      <td>-0.990536</td>\n",
              "      <td>-0.618531</td>\n",
              "      <td>0.289875</td>\n",
              "      <td>-0.120279</td>\n",
              "      <td>0.519724</td>\n",
              "      <td>1.181626</td>\n",
              "      <td>2.576108</td>\n",
              "    </tr>\n",
              "  </tbody>\n",
              "</table>\n",
              "<p>1439 rows × 180 columns</p>\n",
              "</div>"
            ]
          },
          "metadata": {},
          "execution_count": 62
        }
      ],
      "source": [
        "print(f'\\nAudio samples represented: {features.shape[0]}')\n",
        "print(f'Numerical features extracted per sample: {features.shape[1]}')\n",
        "features_df = pd.DataFrame(features) # make it pretty for display\n",
        "\n",
        "\n",
        "#making dataframe for emotions as well\n",
        "emotions_df = pd.DataFrame(emotions) # make it pretty for display\n",
        "\n",
        "features_df"
      ]
    },
    {
      "cell_type": "markdown",
      "metadata": {
        "pycharm": {
          "name": "#%% md\n"
        },
        "id": "Tq083zLEL9hH"
      },
      "source": [
        "We have a matrix of dim 1435 x 180. Looks good - 1435 audio samples, one per row, with a series of\n",
        "180 numerical features for each sample.\n",
        "\n",
        "**Each of the 1435 feature arrays has 180 features composed of 12 chromagram pitch classes + 128 mel spectrogram bands + 40 MFC coefficients.**"
      ]
    },
    {
      "cell_type": "markdown",
      "source": [
        "Now we will save our features matrix and emotions array in excel file we dont have to compute them everytime we run the notebook, we can just load them from the excel file whenever required. Make sure to change the path to according to your drive."
      ],
      "metadata": {
        "id": "VF2SggHTDqbQ"
      }
    },
    {
      "cell_type": "code",
      "source": [
        "print(f'\\nAudio samples represented: {my_features.shape[0]}')\n",
        "print(f'Numerical features extracted per sample: {my_features.shape[1]}')\n",
        "my_features_df = pd.DataFrame(my_features) # make it pretty for display\n",
        "\n",
        "\n",
        "#making dataframe for emotions as well\n",
        "my_emotions_df = pd.DataFrame(my_emotions) # make it pretty for display\n",
        "\n",
        "my_features_df"
      ],
      "metadata": {
        "id": "ciV0Fmf--gCF",
        "outputId": "712611db-7225-41dc-eea0-3ddeb2f4f1ff",
        "colab": {
          "base_uri": "https://localhost:8080/",
          "height": 654
        }
      },
      "execution_count": 63,
      "outputs": [
        {
          "output_type": "stream",
          "name": "stdout",
          "text": [
            "\n",
            "Audio samples represented: 16\n",
            "Numerical features extracted per sample: 180\n"
          ]
        },
        {
          "output_type": "execute_result",
          "data": {
            "text/plain": [
              "         0         1         2         3         4         5         6    \\\n",
              "0   0.634518  0.601711  0.589293  0.611308  0.624233  0.638820  0.715899   \n",
              "1   0.634578  0.598018  0.605522  0.625692  0.649560  0.670184  0.679173   \n",
              "2   0.640494  0.594897  0.631021  0.672564  0.688341  0.726484  0.783069   \n",
              "3   0.635926  0.622104  0.631697  0.626655  0.613290  0.640768  0.702324   \n",
              "4   0.595537  0.555471  0.557989  0.602953  0.637649  0.665395  0.737468   \n",
              "5   0.697490  0.652200  0.621394  0.612716  0.626736  0.648962  0.687075   \n",
              "6   0.574341  0.577346  0.589757  0.577925  0.616646  0.659572  0.738664   \n",
              "7   0.651884  0.587717  0.547775  0.560896  0.583850  0.567617  0.591272   \n",
              "8   0.569806  0.561395  0.629154  0.723485  0.784737  0.757077  0.717004   \n",
              "9   0.586355  0.533971  0.507235  0.549302  0.595686  0.626742  0.686597   \n",
              "10  0.657351  0.621960  0.584236  0.600400  0.641907  0.632437  0.613012   \n",
              "11  0.617267  0.582120  0.583986  0.602077  0.629811  0.653633  0.697393   \n",
              "12  0.637561  0.567221  0.537458  0.546914  0.586721  0.620851  0.669658   \n",
              "13  0.596429  0.573586  0.548607  0.586348  0.644668  0.679155  0.743960   \n",
              "14  0.656684  0.614699  0.608877  0.587883  0.615129  0.640207  0.661190   \n",
              "15  0.693029  0.645200  0.646549  0.666597  0.675306  0.723526  0.796343   \n",
              "\n",
              "         7         8         9    ...       170       171       172       173  \\\n",
              "0   0.767366  0.822115  0.797366  ... -1.384140 -2.415087 -1.166803  0.583215   \n",
              "1   0.674993  0.684454  0.729799  ... -2.265654  2.168005  1.233837  1.142924   \n",
              "2   0.771377  0.771529  0.757199  ... -3.338832 -0.588985 -2.203997 -0.384508   \n",
              "3   0.755729  0.767028  0.721486  ... -1.493103 -1.968552  0.105932  0.945981   \n",
              "4   0.798099  0.848120  0.811187  ... -3.226475 -0.337588 -1.811750 -0.671268   \n",
              "5   0.691376  0.654661  0.673403  ...  0.361066  5.237347  2.621161  0.688943   \n",
              "6   0.752299  0.714956  0.708505  ... -4.537311 -1.776552 -2.295209 -0.702573   \n",
              "7   0.638983  0.740793  0.771525  ... -2.556869 -0.757261  1.188038  1.185397   \n",
              "8   0.680337  0.639050  0.604427  ... -1.513227 -0.242478 -3.277622 -2.359097   \n",
              "9   0.728840  0.787282  0.796868  ... -3.844862 -2.761819 -1.370954 -1.140120   \n",
              "10  0.606010  0.637767  0.634647  ...  0.792419  2.090895 -0.729816  1.913378   \n",
              "11  0.723424  0.755137  0.751964  ... -2.731981  1.411180  0.883117 -0.107521   \n",
              "12  0.684803  0.717435  0.729904  ... -5.550780  1.380701  1.257485 -0.930082   \n",
              "13  0.764354  0.750161  0.695654  ... -0.336494 -1.398675 -1.571521 -0.620528   \n",
              "14  0.677668  0.681313  0.669482  ...  0.899312 -0.161637  0.884820  2.173538   \n",
              "15  0.796787  0.802450  0.760579  ... -2.871162 -0.008577 -2.757161 -0.881443   \n",
              "\n",
              "         174       175       176       177       178       179  \n",
              "0  -0.234007  0.740073  0.867333 -1.003832  2.682533 -1.159093  \n",
              "1   3.713222  0.996702  1.582209 -1.604738  1.149364 -3.447551  \n",
              "2   0.810503 -2.806996  0.625471 -2.585297  0.670773 -1.797170  \n",
              "3   1.168698 -0.325293 -0.252816 -2.116433  1.048333 -2.019167  \n",
              "4   1.263194 -1.070431  0.750284 -1.526910  2.642765  0.474842  \n",
              "5   5.799526  1.037625  0.009438 -1.321386 -0.418923 -3.171585  \n",
              "6   0.937936 -0.390074  2.767395 -0.502408  1.588450 -0.346958  \n",
              "7   3.355464  3.127595  2.923765  2.613000  6.127813  0.836279  \n",
              "8   0.111964 -3.152966 -2.870136 -3.718226 -2.062818 -4.053888  \n",
              "9   1.226140  1.750970  2.169361  1.992610  5.137039  0.560212  \n",
              "10  3.846349 -0.167899 -0.709167 -1.286903 -0.047996 -3.224656  \n",
              "11  2.765027  0.956133  3.383591  0.968535  4.037083  0.694003  \n",
              "12  5.824629  4.342187  3.441122  2.101807  2.214130 -0.700829  \n",
              "13  0.927241 -1.061956 -0.227223 -0.608908 -0.419606 -0.189258  \n",
              "14  2.098734 -0.374357  0.694250 -1.451745  0.743645 -0.488515  \n",
              "15  0.876805 -1.041208 -0.051414 -2.435076  0.128173 -2.760708  \n",
              "\n",
              "[16 rows x 180 columns]"
            ],
            "text/html": [
              "<div>\n",
              "<style scoped>\n",
              "    .dataframe tbody tr th:only-of-type {\n",
              "        vertical-align: middle;\n",
              "    }\n",
              "\n",
              "    .dataframe tbody tr th {\n",
              "        vertical-align: top;\n",
              "    }\n",
              "\n",
              "    .dataframe thead th {\n",
              "        text-align: right;\n",
              "    }\n",
              "</style>\n",
              "<table border=\"1\" class=\"dataframe\">\n",
              "  <thead>\n",
              "    <tr style=\"text-align: right;\">\n",
              "      <th></th>\n",
              "      <th>0</th>\n",
              "      <th>1</th>\n",
              "      <th>2</th>\n",
              "      <th>3</th>\n",
              "      <th>4</th>\n",
              "      <th>5</th>\n",
              "      <th>6</th>\n",
              "      <th>7</th>\n",
              "      <th>8</th>\n",
              "      <th>9</th>\n",
              "      <th>...</th>\n",
              "      <th>170</th>\n",
              "      <th>171</th>\n",
              "      <th>172</th>\n",
              "      <th>173</th>\n",
              "      <th>174</th>\n",
              "      <th>175</th>\n",
              "      <th>176</th>\n",
              "      <th>177</th>\n",
              "      <th>178</th>\n",
              "      <th>179</th>\n",
              "    </tr>\n",
              "  </thead>\n",
              "  <tbody>\n",
              "    <tr>\n",
              "      <th>0</th>\n",
              "      <td>0.634518</td>\n",
              "      <td>0.601711</td>\n",
              "      <td>0.589293</td>\n",
              "      <td>0.611308</td>\n",
              "      <td>0.624233</td>\n",
              "      <td>0.638820</td>\n",
              "      <td>0.715899</td>\n",
              "      <td>0.767366</td>\n",
              "      <td>0.822115</td>\n",
              "      <td>0.797366</td>\n",
              "      <td>...</td>\n",
              "      <td>-1.384140</td>\n",
              "      <td>-2.415087</td>\n",
              "      <td>-1.166803</td>\n",
              "      <td>0.583215</td>\n",
              "      <td>-0.234007</td>\n",
              "      <td>0.740073</td>\n",
              "      <td>0.867333</td>\n",
              "      <td>-1.003832</td>\n",
              "      <td>2.682533</td>\n",
              "      <td>-1.159093</td>\n",
              "    </tr>\n",
              "    <tr>\n",
              "      <th>1</th>\n",
              "      <td>0.634578</td>\n",
              "      <td>0.598018</td>\n",
              "      <td>0.605522</td>\n",
              "      <td>0.625692</td>\n",
              "      <td>0.649560</td>\n",
              "      <td>0.670184</td>\n",
              "      <td>0.679173</td>\n",
              "      <td>0.674993</td>\n",
              "      <td>0.684454</td>\n",
              "      <td>0.729799</td>\n",
              "      <td>...</td>\n",
              "      <td>-2.265654</td>\n",
              "      <td>2.168005</td>\n",
              "      <td>1.233837</td>\n",
              "      <td>1.142924</td>\n",
              "      <td>3.713222</td>\n",
              "      <td>0.996702</td>\n",
              "      <td>1.582209</td>\n",
              "      <td>-1.604738</td>\n",
              "      <td>1.149364</td>\n",
              "      <td>-3.447551</td>\n",
              "    </tr>\n",
              "    <tr>\n",
              "      <th>2</th>\n",
              "      <td>0.640494</td>\n",
              "      <td>0.594897</td>\n",
              "      <td>0.631021</td>\n",
              "      <td>0.672564</td>\n",
              "      <td>0.688341</td>\n",
              "      <td>0.726484</td>\n",
              "      <td>0.783069</td>\n",
              "      <td>0.771377</td>\n",
              "      <td>0.771529</td>\n",
              "      <td>0.757199</td>\n",
              "      <td>...</td>\n",
              "      <td>-3.338832</td>\n",
              "      <td>-0.588985</td>\n",
              "      <td>-2.203997</td>\n",
              "      <td>-0.384508</td>\n",
              "      <td>0.810503</td>\n",
              "      <td>-2.806996</td>\n",
              "      <td>0.625471</td>\n",
              "      <td>-2.585297</td>\n",
              "      <td>0.670773</td>\n",
              "      <td>-1.797170</td>\n",
              "    </tr>\n",
              "    <tr>\n",
              "      <th>3</th>\n",
              "      <td>0.635926</td>\n",
              "      <td>0.622104</td>\n",
              "      <td>0.631697</td>\n",
              "      <td>0.626655</td>\n",
              "      <td>0.613290</td>\n",
              "      <td>0.640768</td>\n",
              "      <td>0.702324</td>\n",
              "      <td>0.755729</td>\n",
              "      <td>0.767028</td>\n",
              "      <td>0.721486</td>\n",
              "      <td>...</td>\n",
              "      <td>-1.493103</td>\n",
              "      <td>-1.968552</td>\n",
              "      <td>0.105932</td>\n",
              "      <td>0.945981</td>\n",
              "      <td>1.168698</td>\n",
              "      <td>-0.325293</td>\n",
              "      <td>-0.252816</td>\n",
              "      <td>-2.116433</td>\n",
              "      <td>1.048333</td>\n",
              "      <td>-2.019167</td>\n",
              "    </tr>\n",
              "    <tr>\n",
              "      <th>4</th>\n",
              "      <td>0.595537</td>\n",
              "      <td>0.555471</td>\n",
              "      <td>0.557989</td>\n",
              "      <td>0.602953</td>\n",
              "      <td>0.637649</td>\n",
              "      <td>0.665395</td>\n",
              "      <td>0.737468</td>\n",
              "      <td>0.798099</td>\n",
              "      <td>0.848120</td>\n",
              "      <td>0.811187</td>\n",
              "      <td>...</td>\n",
              "      <td>-3.226475</td>\n",
              "      <td>-0.337588</td>\n",
              "      <td>-1.811750</td>\n",
              "      <td>-0.671268</td>\n",
              "      <td>1.263194</td>\n",
              "      <td>-1.070431</td>\n",
              "      <td>0.750284</td>\n",
              "      <td>-1.526910</td>\n",
              "      <td>2.642765</td>\n",
              "      <td>0.474842</td>\n",
              "    </tr>\n",
              "    <tr>\n",
              "      <th>5</th>\n",
              "      <td>0.697490</td>\n",
              "      <td>0.652200</td>\n",
              "      <td>0.621394</td>\n",
              "      <td>0.612716</td>\n",
              "      <td>0.626736</td>\n",
              "      <td>0.648962</td>\n",
              "      <td>0.687075</td>\n",
              "      <td>0.691376</td>\n",
              "      <td>0.654661</td>\n",
              "      <td>0.673403</td>\n",
              "      <td>...</td>\n",
              "      <td>0.361066</td>\n",
              "      <td>5.237347</td>\n",
              "      <td>2.621161</td>\n",
              "      <td>0.688943</td>\n",
              "      <td>5.799526</td>\n",
              "      <td>1.037625</td>\n",
              "      <td>0.009438</td>\n",
              "      <td>-1.321386</td>\n",
              "      <td>-0.418923</td>\n",
              "      <td>-3.171585</td>\n",
              "    </tr>\n",
              "    <tr>\n",
              "      <th>6</th>\n",
              "      <td>0.574341</td>\n",
              "      <td>0.577346</td>\n",
              "      <td>0.589757</td>\n",
              "      <td>0.577925</td>\n",
              "      <td>0.616646</td>\n",
              "      <td>0.659572</td>\n",
              "      <td>0.738664</td>\n",
              "      <td>0.752299</td>\n",
              "      <td>0.714956</td>\n",
              "      <td>0.708505</td>\n",
              "      <td>...</td>\n",
              "      <td>-4.537311</td>\n",
              "      <td>-1.776552</td>\n",
              "      <td>-2.295209</td>\n",
              "      <td>-0.702573</td>\n",
              "      <td>0.937936</td>\n",
              "      <td>-0.390074</td>\n",
              "      <td>2.767395</td>\n",
              "      <td>-0.502408</td>\n",
              "      <td>1.588450</td>\n",
              "      <td>-0.346958</td>\n",
              "    </tr>\n",
              "    <tr>\n",
              "      <th>7</th>\n",
              "      <td>0.651884</td>\n",
              "      <td>0.587717</td>\n",
              "      <td>0.547775</td>\n",
              "      <td>0.560896</td>\n",
              "      <td>0.583850</td>\n",
              "      <td>0.567617</td>\n",
              "      <td>0.591272</td>\n",
              "      <td>0.638983</td>\n",
              "      <td>0.740793</td>\n",
              "      <td>0.771525</td>\n",
              "      <td>...</td>\n",
              "      <td>-2.556869</td>\n",
              "      <td>-0.757261</td>\n",
              "      <td>1.188038</td>\n",
              "      <td>1.185397</td>\n",
              "      <td>3.355464</td>\n",
              "      <td>3.127595</td>\n",
              "      <td>2.923765</td>\n",
              "      <td>2.613000</td>\n",
              "      <td>6.127813</td>\n",
              "      <td>0.836279</td>\n",
              "    </tr>\n",
              "    <tr>\n",
              "      <th>8</th>\n",
              "      <td>0.569806</td>\n",
              "      <td>0.561395</td>\n",
              "      <td>0.629154</td>\n",
              "      <td>0.723485</td>\n",
              "      <td>0.784737</td>\n",
              "      <td>0.757077</td>\n",
              "      <td>0.717004</td>\n",
              "      <td>0.680337</td>\n",
              "      <td>0.639050</td>\n",
              "      <td>0.604427</td>\n",
              "      <td>...</td>\n",
              "      <td>-1.513227</td>\n",
              "      <td>-0.242478</td>\n",
              "      <td>-3.277622</td>\n",
              "      <td>-2.359097</td>\n",
              "      <td>0.111964</td>\n",
              "      <td>-3.152966</td>\n",
              "      <td>-2.870136</td>\n",
              "      <td>-3.718226</td>\n",
              "      <td>-2.062818</td>\n",
              "      <td>-4.053888</td>\n",
              "    </tr>\n",
              "    <tr>\n",
              "      <th>9</th>\n",
              "      <td>0.586355</td>\n",
              "      <td>0.533971</td>\n",
              "      <td>0.507235</td>\n",
              "      <td>0.549302</td>\n",
              "      <td>0.595686</td>\n",
              "      <td>0.626742</td>\n",
              "      <td>0.686597</td>\n",
              "      <td>0.728840</td>\n",
              "      <td>0.787282</td>\n",
              "      <td>0.796868</td>\n",
              "      <td>...</td>\n",
              "      <td>-3.844862</td>\n",
              "      <td>-2.761819</td>\n",
              "      <td>-1.370954</td>\n",
              "      <td>-1.140120</td>\n",
              "      <td>1.226140</td>\n",
              "      <td>1.750970</td>\n",
              "      <td>2.169361</td>\n",
              "      <td>1.992610</td>\n",
              "      <td>5.137039</td>\n",
              "      <td>0.560212</td>\n",
              "    </tr>\n",
              "    <tr>\n",
              "      <th>10</th>\n",
              "      <td>0.657351</td>\n",
              "      <td>0.621960</td>\n",
              "      <td>0.584236</td>\n",
              "      <td>0.600400</td>\n",
              "      <td>0.641907</td>\n",
              "      <td>0.632437</td>\n",
              "      <td>0.613012</td>\n",
              "      <td>0.606010</td>\n",
              "      <td>0.637767</td>\n",
              "      <td>0.634647</td>\n",
              "      <td>...</td>\n",
              "      <td>0.792419</td>\n",
              "      <td>2.090895</td>\n",
              "      <td>-0.729816</td>\n",
              "      <td>1.913378</td>\n",
              "      <td>3.846349</td>\n",
              "      <td>-0.167899</td>\n",
              "      <td>-0.709167</td>\n",
              "      <td>-1.286903</td>\n",
              "      <td>-0.047996</td>\n",
              "      <td>-3.224656</td>\n",
              "    </tr>\n",
              "    <tr>\n",
              "      <th>11</th>\n",
              "      <td>0.617267</td>\n",
              "      <td>0.582120</td>\n",
              "      <td>0.583986</td>\n",
              "      <td>0.602077</td>\n",
              "      <td>0.629811</td>\n",
              "      <td>0.653633</td>\n",
              "      <td>0.697393</td>\n",
              "      <td>0.723424</td>\n",
              "      <td>0.755137</td>\n",
              "      <td>0.751964</td>\n",
              "      <td>...</td>\n",
              "      <td>-2.731981</td>\n",
              "      <td>1.411180</td>\n",
              "      <td>0.883117</td>\n",
              "      <td>-0.107521</td>\n",
              "      <td>2.765027</td>\n",
              "      <td>0.956133</td>\n",
              "      <td>3.383591</td>\n",
              "      <td>0.968535</td>\n",
              "      <td>4.037083</td>\n",
              "      <td>0.694003</td>\n",
              "    </tr>\n",
              "    <tr>\n",
              "      <th>12</th>\n",
              "      <td>0.637561</td>\n",
              "      <td>0.567221</td>\n",
              "      <td>0.537458</td>\n",
              "      <td>0.546914</td>\n",
              "      <td>0.586721</td>\n",
              "      <td>0.620851</td>\n",
              "      <td>0.669658</td>\n",
              "      <td>0.684803</td>\n",
              "      <td>0.717435</td>\n",
              "      <td>0.729904</td>\n",
              "      <td>...</td>\n",
              "      <td>-5.550780</td>\n",
              "      <td>1.380701</td>\n",
              "      <td>1.257485</td>\n",
              "      <td>-0.930082</td>\n",
              "      <td>5.824629</td>\n",
              "      <td>4.342187</td>\n",
              "      <td>3.441122</td>\n",
              "      <td>2.101807</td>\n",
              "      <td>2.214130</td>\n",
              "      <td>-0.700829</td>\n",
              "    </tr>\n",
              "    <tr>\n",
              "      <th>13</th>\n",
              "      <td>0.596429</td>\n",
              "      <td>0.573586</td>\n",
              "      <td>0.548607</td>\n",
              "      <td>0.586348</td>\n",
              "      <td>0.644668</td>\n",
              "      <td>0.679155</td>\n",
              "      <td>0.743960</td>\n",
              "      <td>0.764354</td>\n",
              "      <td>0.750161</td>\n",
              "      <td>0.695654</td>\n",
              "      <td>...</td>\n",
              "      <td>-0.336494</td>\n",
              "      <td>-1.398675</td>\n",
              "      <td>-1.571521</td>\n",
              "      <td>-0.620528</td>\n",
              "      <td>0.927241</td>\n",
              "      <td>-1.061956</td>\n",
              "      <td>-0.227223</td>\n",
              "      <td>-0.608908</td>\n",
              "      <td>-0.419606</td>\n",
              "      <td>-0.189258</td>\n",
              "    </tr>\n",
              "    <tr>\n",
              "      <th>14</th>\n",
              "      <td>0.656684</td>\n",
              "      <td>0.614699</td>\n",
              "      <td>0.608877</td>\n",
              "      <td>0.587883</td>\n",
              "      <td>0.615129</td>\n",
              "      <td>0.640207</td>\n",
              "      <td>0.661190</td>\n",
              "      <td>0.677668</td>\n",
              "      <td>0.681313</td>\n",
              "      <td>0.669482</td>\n",
              "      <td>...</td>\n",
              "      <td>0.899312</td>\n",
              "      <td>-0.161637</td>\n",
              "      <td>0.884820</td>\n",
              "      <td>2.173538</td>\n",
              "      <td>2.098734</td>\n",
              "      <td>-0.374357</td>\n",
              "      <td>0.694250</td>\n",
              "      <td>-1.451745</td>\n",
              "      <td>0.743645</td>\n",
              "      <td>-0.488515</td>\n",
              "    </tr>\n",
              "    <tr>\n",
              "      <th>15</th>\n",
              "      <td>0.693029</td>\n",
              "      <td>0.645200</td>\n",
              "      <td>0.646549</td>\n",
              "      <td>0.666597</td>\n",
              "      <td>0.675306</td>\n",
              "      <td>0.723526</td>\n",
              "      <td>0.796343</td>\n",
              "      <td>0.796787</td>\n",
              "      <td>0.802450</td>\n",
              "      <td>0.760579</td>\n",
              "      <td>...</td>\n",
              "      <td>-2.871162</td>\n",
              "      <td>-0.008577</td>\n",
              "      <td>-2.757161</td>\n",
              "      <td>-0.881443</td>\n",
              "      <td>0.876805</td>\n",
              "      <td>-1.041208</td>\n",
              "      <td>-0.051414</td>\n",
              "      <td>-2.435076</td>\n",
              "      <td>0.128173</td>\n",
              "      <td>-2.760708</td>\n",
              "    </tr>\n",
              "  </tbody>\n",
              "</table>\n",
              "<p>16 rows × 180 columns</p>\n",
              "</div>"
            ]
          },
          "metadata": {},
          "execution_count": 63
        }
      ]
    },
    {
      "cell_type": "code",
      "source": [
        "features_df.to_csv('Documents/IAT360/Assign2/Original audio/featuresRavdess.csv')\n",
        "emotions_df.to_csv('Documents/IAT360/Assign2/Original audio/emotionsRavdess.csv')\n"
      ],
      "metadata": {
        "id": "u6H8hc6gDtbp"
      },
      "execution_count": 64,
      "outputs": []
    },
    {
      "cell_type": "code",
      "source": [
        "my_features_df.to_csv('Documents/IAT360/Assign2/My Voice Feature/featuresRavdess.csv')\n",
        "my_emotions_df.to_csv('Documents/IAT360/Assign2/My Voice Feature/emotionsRavdess.csv')"
      ],
      "metadata": {
        "id": "JTU_mrEm-wpa"
      },
      "execution_count": 65,
      "outputs": []
    },
    {
      "cell_type": "markdown",
      "source": [
        "## Load pre-saved Dataset"
      ],
      "metadata": {
        "id": "VpE5m-5aEyoB"
      }
    },
    {
      "cell_type": "markdown",
      "source": [
        "Once saved you only need to load them later by running the cell below, and **skip every cell above** except for the one in which we import libraries."
      ],
      "metadata": {
        "id": "hHPB7dCqEotR"
      }
    },
    {
      "cell_type": "code",
      "source": [
        "features=pd.read_csv('Documents/IAT360/Assign2/Original audio/featuresRavdess.csv',index_col=0)\n",
        "emotions=pd.read_csv('Documents/IAT360/Assign2/Original audio/emotionsRavdess.csv',index_col=0)"
      ],
      "metadata": {
        "id": "-8nlJCESEn56"
      },
      "execution_count": 66,
      "outputs": []
    },
    {
      "cell_type": "code",
      "source": [
        "my_features=pd.read_csv('Documents/IAT360/Assign2/My Voice Feature/featuresRavdess.csv',index_col=0)\n",
        "my_emotions=pd.read_csv('Documents/IAT360/Assign2/My Voice Feature/emotionsRavdess.csv',index_col=0)"
      ],
      "metadata": {
        "id": "m_Jy9nDK_I2X"
      },
      "execution_count": 67,
      "outputs": []
    },
    {
      "cell_type": "markdown",
      "source": [
        "let's see if they have been loaded correctly!"
      ],
      "metadata": {
        "id": "4x2dXjybD1NM"
      }
    },
    {
      "cell_type": "code",
      "source": [
        "features.head()\n"
      ],
      "metadata": {
        "id": "B5Xo1SVMD0qR",
        "outputId": "20371103-cacf-4577-c6e6-0f18a3de64af",
        "colab": {
          "base_uri": "https://localhost:8080/",
          "height": 256
        }
      },
      "execution_count": 68,
      "outputs": [
        {
          "output_type": "execute_result",
          "data": {
            "text/plain": [
              "          0         1         2         3         4         5         6  \\\n",
              "0  0.552245  0.504338  0.512779  0.550540  0.572176  0.615567  0.603708   \n",
              "1  0.550732  0.508484  0.466809  0.438485  0.428218  0.445352  0.444528   \n",
              "2  0.672768  0.601451  0.548317  0.477805  0.453192  0.516665  0.570100   \n",
              "3  0.602309  0.605448  0.558788  0.529441  0.546189  0.568049  0.566027   \n",
              "4  0.556555  0.503434  0.473118  0.479222  0.495470  0.522490  0.532196   \n",
              "\n",
              "          7         8         9  ...       170       171       172       173  \\\n",
              "0  0.573230  0.593454  0.603834  ... -3.543537 -0.912676 -1.747537 -2.299447   \n",
              "1  0.444478  0.500419  0.551672  ...  2.333152  3.619089  0.793563  0.743431   \n",
              "2  0.599750  0.647746  0.692148  ...  0.283253  0.218117 -1.928165 -2.486516   \n",
              "3  0.523464  0.526789  0.552809  ...  2.176564  3.904047  0.980935  1.160923   \n",
              "4  0.540681  0.545616  0.512521  ... -1.306030  0.050261 -0.992539 -0.213367   \n",
              "\n",
              "        174       175       176       177       178       179  \n",
              "0 -0.025205  2.449470  2.116510  3.361054  2.086241  0.376519  \n",
              "1  0.660723 -0.254914 -0.967536  0.378563 -0.338074 -0.463241  \n",
              "2 -0.530147  0.354905  0.463640  0.581006 -2.091462 -1.899596  \n",
              "3 -0.694902 -0.969963 -0.234802  0.941701  0.695973  0.430566  \n",
              "4 -0.351018 -1.462262 -2.454565 -1.044801 -0.298479  0.118208  \n",
              "\n",
              "[5 rows x 180 columns]"
            ],
            "text/html": [
              "<div>\n",
              "<style scoped>\n",
              "    .dataframe tbody tr th:only-of-type {\n",
              "        vertical-align: middle;\n",
              "    }\n",
              "\n",
              "    .dataframe tbody tr th {\n",
              "        vertical-align: top;\n",
              "    }\n",
              "\n",
              "    .dataframe thead th {\n",
              "        text-align: right;\n",
              "    }\n",
              "</style>\n",
              "<table border=\"1\" class=\"dataframe\">\n",
              "  <thead>\n",
              "    <tr style=\"text-align: right;\">\n",
              "      <th></th>\n",
              "      <th>0</th>\n",
              "      <th>1</th>\n",
              "      <th>2</th>\n",
              "      <th>3</th>\n",
              "      <th>4</th>\n",
              "      <th>5</th>\n",
              "      <th>6</th>\n",
              "      <th>7</th>\n",
              "      <th>8</th>\n",
              "      <th>9</th>\n",
              "      <th>...</th>\n",
              "      <th>170</th>\n",
              "      <th>171</th>\n",
              "      <th>172</th>\n",
              "      <th>173</th>\n",
              "      <th>174</th>\n",
              "      <th>175</th>\n",
              "      <th>176</th>\n",
              "      <th>177</th>\n",
              "      <th>178</th>\n",
              "      <th>179</th>\n",
              "    </tr>\n",
              "  </thead>\n",
              "  <tbody>\n",
              "    <tr>\n",
              "      <th>0</th>\n",
              "      <td>0.552245</td>\n",
              "      <td>0.504338</td>\n",
              "      <td>0.512779</td>\n",
              "      <td>0.550540</td>\n",
              "      <td>0.572176</td>\n",
              "      <td>0.615567</td>\n",
              "      <td>0.603708</td>\n",
              "      <td>0.573230</td>\n",
              "      <td>0.593454</td>\n",
              "      <td>0.603834</td>\n",
              "      <td>...</td>\n",
              "      <td>-3.543537</td>\n",
              "      <td>-0.912676</td>\n",
              "      <td>-1.747537</td>\n",
              "      <td>-2.299447</td>\n",
              "      <td>-0.025205</td>\n",
              "      <td>2.449470</td>\n",
              "      <td>2.116510</td>\n",
              "      <td>3.361054</td>\n",
              "      <td>2.086241</td>\n",
              "      <td>0.376519</td>\n",
              "    </tr>\n",
              "    <tr>\n",
              "      <th>1</th>\n",
              "      <td>0.550732</td>\n",
              "      <td>0.508484</td>\n",
              "      <td>0.466809</td>\n",
              "      <td>0.438485</td>\n",
              "      <td>0.428218</td>\n",
              "      <td>0.445352</td>\n",
              "      <td>0.444528</td>\n",
              "      <td>0.444478</td>\n",
              "      <td>0.500419</td>\n",
              "      <td>0.551672</td>\n",
              "      <td>...</td>\n",
              "      <td>2.333152</td>\n",
              "      <td>3.619089</td>\n",
              "      <td>0.793563</td>\n",
              "      <td>0.743431</td>\n",
              "      <td>0.660723</td>\n",
              "      <td>-0.254914</td>\n",
              "      <td>-0.967536</td>\n",
              "      <td>0.378563</td>\n",
              "      <td>-0.338074</td>\n",
              "      <td>-0.463241</td>\n",
              "    </tr>\n",
              "    <tr>\n",
              "      <th>2</th>\n",
              "      <td>0.672768</td>\n",
              "      <td>0.601451</td>\n",
              "      <td>0.548317</td>\n",
              "      <td>0.477805</td>\n",
              "      <td>0.453192</td>\n",
              "      <td>0.516665</td>\n",
              "      <td>0.570100</td>\n",
              "      <td>0.599750</td>\n",
              "      <td>0.647746</td>\n",
              "      <td>0.692148</td>\n",
              "      <td>...</td>\n",
              "      <td>0.283253</td>\n",
              "      <td>0.218117</td>\n",
              "      <td>-1.928165</td>\n",
              "      <td>-2.486516</td>\n",
              "      <td>-0.530147</td>\n",
              "      <td>0.354905</td>\n",
              "      <td>0.463640</td>\n",
              "      <td>0.581006</td>\n",
              "      <td>-2.091462</td>\n",
              "      <td>-1.899596</td>\n",
              "    </tr>\n",
              "    <tr>\n",
              "      <th>3</th>\n",
              "      <td>0.602309</td>\n",
              "      <td>0.605448</td>\n",
              "      <td>0.558788</td>\n",
              "      <td>0.529441</td>\n",
              "      <td>0.546189</td>\n",
              "      <td>0.568049</td>\n",
              "      <td>0.566027</td>\n",
              "      <td>0.523464</td>\n",
              "      <td>0.526789</td>\n",
              "      <td>0.552809</td>\n",
              "      <td>...</td>\n",
              "      <td>2.176564</td>\n",
              "      <td>3.904047</td>\n",
              "      <td>0.980935</td>\n",
              "      <td>1.160923</td>\n",
              "      <td>-0.694902</td>\n",
              "      <td>-0.969963</td>\n",
              "      <td>-0.234802</td>\n",
              "      <td>0.941701</td>\n",
              "      <td>0.695973</td>\n",
              "      <td>0.430566</td>\n",
              "    </tr>\n",
              "    <tr>\n",
              "      <th>4</th>\n",
              "      <td>0.556555</td>\n",
              "      <td>0.503434</td>\n",
              "      <td>0.473118</td>\n",
              "      <td>0.479222</td>\n",
              "      <td>0.495470</td>\n",
              "      <td>0.522490</td>\n",
              "      <td>0.532196</td>\n",
              "      <td>0.540681</td>\n",
              "      <td>0.545616</td>\n",
              "      <td>0.512521</td>\n",
              "      <td>...</td>\n",
              "      <td>-1.306030</td>\n",
              "      <td>0.050261</td>\n",
              "      <td>-0.992539</td>\n",
              "      <td>-0.213367</td>\n",
              "      <td>-0.351018</td>\n",
              "      <td>-1.462262</td>\n",
              "      <td>-2.454565</td>\n",
              "      <td>-1.044801</td>\n",
              "      <td>-0.298479</td>\n",
              "      <td>0.118208</td>\n",
              "    </tr>\n",
              "  </tbody>\n",
              "</table>\n",
              "<p>5 rows × 180 columns</p>\n",
              "</div>"
            ]
          },
          "metadata": {},
          "execution_count": 68
        }
      ]
    },
    {
      "cell_type": "code",
      "source": [
        "my_features.head()"
      ],
      "metadata": {
        "id": "YXp8HGU0_iph",
        "outputId": "9dd50073-34bb-4a76-9ac8-9bd234dd0165",
        "colab": {
          "base_uri": "https://localhost:8080/",
          "height": 256
        }
      },
      "execution_count": 69,
      "outputs": [
        {
          "output_type": "execute_result",
          "data": {
            "text/plain": [
              "          0         1         2         3         4         5         6  \\\n",
              "0  0.634518  0.601711  0.589293  0.611308  0.624233  0.638819  0.715899   \n",
              "1  0.634578  0.598018  0.605522  0.625692  0.649560  0.670184  0.679173   \n",
              "2  0.640494  0.594897  0.631021  0.672564  0.688341  0.726484  0.783069   \n",
              "3  0.635926  0.622104  0.631697  0.626655  0.613290  0.640768  0.702324   \n",
              "4  0.595537  0.555471  0.557989  0.602953  0.637649  0.665395  0.737468   \n",
              "\n",
              "          7         8         9  ...       170       171       172       173  \\\n",
              "0  0.767366  0.822115  0.797366  ... -1.384140 -2.415087 -1.166803  0.583215   \n",
              "1  0.674993  0.684454  0.729799  ... -2.265654  2.168005  1.233837  1.142924   \n",
              "2  0.771377  0.771529  0.757199  ... -3.338832 -0.588985 -2.203997 -0.384508   \n",
              "3  0.755729  0.767028  0.721486  ... -1.493103 -1.968552  0.105932  0.945981   \n",
              "4  0.798099  0.848120  0.811187  ... -3.226475 -0.337588 -1.811750 -0.671268   \n",
              "\n",
              "        174       175       176       177       178       179  \n",
              "0 -0.234007  0.740073  0.867332 -1.003832  2.682533 -1.159093  \n",
              "1  3.713222  0.996702  1.582210 -1.604739  1.149364 -3.447551  \n",
              "2  0.810503 -2.806996  0.625471 -2.585297  0.670773 -1.797170  \n",
              "3  1.168698 -0.325293 -0.252816 -2.116433  1.048333 -2.019167  \n",
              "4  1.263194 -1.070431  0.750285 -1.526910  2.642765  0.474842  \n",
              "\n",
              "[5 rows x 180 columns]"
            ],
            "text/html": [
              "<div>\n",
              "<style scoped>\n",
              "    .dataframe tbody tr th:only-of-type {\n",
              "        vertical-align: middle;\n",
              "    }\n",
              "\n",
              "    .dataframe tbody tr th {\n",
              "        vertical-align: top;\n",
              "    }\n",
              "\n",
              "    .dataframe thead th {\n",
              "        text-align: right;\n",
              "    }\n",
              "</style>\n",
              "<table border=\"1\" class=\"dataframe\">\n",
              "  <thead>\n",
              "    <tr style=\"text-align: right;\">\n",
              "      <th></th>\n",
              "      <th>0</th>\n",
              "      <th>1</th>\n",
              "      <th>2</th>\n",
              "      <th>3</th>\n",
              "      <th>4</th>\n",
              "      <th>5</th>\n",
              "      <th>6</th>\n",
              "      <th>7</th>\n",
              "      <th>8</th>\n",
              "      <th>9</th>\n",
              "      <th>...</th>\n",
              "      <th>170</th>\n",
              "      <th>171</th>\n",
              "      <th>172</th>\n",
              "      <th>173</th>\n",
              "      <th>174</th>\n",
              "      <th>175</th>\n",
              "      <th>176</th>\n",
              "      <th>177</th>\n",
              "      <th>178</th>\n",
              "      <th>179</th>\n",
              "    </tr>\n",
              "  </thead>\n",
              "  <tbody>\n",
              "    <tr>\n",
              "      <th>0</th>\n",
              "      <td>0.634518</td>\n",
              "      <td>0.601711</td>\n",
              "      <td>0.589293</td>\n",
              "      <td>0.611308</td>\n",
              "      <td>0.624233</td>\n",
              "      <td>0.638819</td>\n",
              "      <td>0.715899</td>\n",
              "      <td>0.767366</td>\n",
              "      <td>0.822115</td>\n",
              "      <td>0.797366</td>\n",
              "      <td>...</td>\n",
              "      <td>-1.384140</td>\n",
              "      <td>-2.415087</td>\n",
              "      <td>-1.166803</td>\n",
              "      <td>0.583215</td>\n",
              "      <td>-0.234007</td>\n",
              "      <td>0.740073</td>\n",
              "      <td>0.867332</td>\n",
              "      <td>-1.003832</td>\n",
              "      <td>2.682533</td>\n",
              "      <td>-1.159093</td>\n",
              "    </tr>\n",
              "    <tr>\n",
              "      <th>1</th>\n",
              "      <td>0.634578</td>\n",
              "      <td>0.598018</td>\n",
              "      <td>0.605522</td>\n",
              "      <td>0.625692</td>\n",
              "      <td>0.649560</td>\n",
              "      <td>0.670184</td>\n",
              "      <td>0.679173</td>\n",
              "      <td>0.674993</td>\n",
              "      <td>0.684454</td>\n",
              "      <td>0.729799</td>\n",
              "      <td>...</td>\n",
              "      <td>-2.265654</td>\n",
              "      <td>2.168005</td>\n",
              "      <td>1.233837</td>\n",
              "      <td>1.142924</td>\n",
              "      <td>3.713222</td>\n",
              "      <td>0.996702</td>\n",
              "      <td>1.582210</td>\n",
              "      <td>-1.604739</td>\n",
              "      <td>1.149364</td>\n",
              "      <td>-3.447551</td>\n",
              "    </tr>\n",
              "    <tr>\n",
              "      <th>2</th>\n",
              "      <td>0.640494</td>\n",
              "      <td>0.594897</td>\n",
              "      <td>0.631021</td>\n",
              "      <td>0.672564</td>\n",
              "      <td>0.688341</td>\n",
              "      <td>0.726484</td>\n",
              "      <td>0.783069</td>\n",
              "      <td>0.771377</td>\n",
              "      <td>0.771529</td>\n",
              "      <td>0.757199</td>\n",
              "      <td>...</td>\n",
              "      <td>-3.338832</td>\n",
              "      <td>-0.588985</td>\n",
              "      <td>-2.203997</td>\n",
              "      <td>-0.384508</td>\n",
              "      <td>0.810503</td>\n",
              "      <td>-2.806996</td>\n",
              "      <td>0.625471</td>\n",
              "      <td>-2.585297</td>\n",
              "      <td>0.670773</td>\n",
              "      <td>-1.797170</td>\n",
              "    </tr>\n",
              "    <tr>\n",
              "      <th>3</th>\n",
              "      <td>0.635926</td>\n",
              "      <td>0.622104</td>\n",
              "      <td>0.631697</td>\n",
              "      <td>0.626655</td>\n",
              "      <td>0.613290</td>\n",
              "      <td>0.640768</td>\n",
              "      <td>0.702324</td>\n",
              "      <td>0.755729</td>\n",
              "      <td>0.767028</td>\n",
              "      <td>0.721486</td>\n",
              "      <td>...</td>\n",
              "      <td>-1.493103</td>\n",
              "      <td>-1.968552</td>\n",
              "      <td>0.105932</td>\n",
              "      <td>0.945981</td>\n",
              "      <td>1.168698</td>\n",
              "      <td>-0.325293</td>\n",
              "      <td>-0.252816</td>\n",
              "      <td>-2.116433</td>\n",
              "      <td>1.048333</td>\n",
              "      <td>-2.019167</td>\n",
              "    </tr>\n",
              "    <tr>\n",
              "      <th>4</th>\n",
              "      <td>0.595537</td>\n",
              "      <td>0.555471</td>\n",
              "      <td>0.557989</td>\n",
              "      <td>0.602953</td>\n",
              "      <td>0.637649</td>\n",
              "      <td>0.665395</td>\n",
              "      <td>0.737468</td>\n",
              "      <td>0.798099</td>\n",
              "      <td>0.848120</td>\n",
              "      <td>0.811187</td>\n",
              "      <td>...</td>\n",
              "      <td>-3.226475</td>\n",
              "      <td>-0.337588</td>\n",
              "      <td>-1.811750</td>\n",
              "      <td>-0.671268</td>\n",
              "      <td>1.263194</td>\n",
              "      <td>-1.070431</td>\n",
              "      <td>0.750285</td>\n",
              "      <td>-1.526910</td>\n",
              "      <td>2.642765</td>\n",
              "      <td>0.474842</td>\n",
              "    </tr>\n",
              "  </tbody>\n",
              "</table>\n",
              "<p>5 rows × 180 columns</p>\n",
              "</div>"
            ]
          },
          "metadata": {},
          "execution_count": 69
        }
      ]
    },
    {
      "cell_type": "markdown",
      "metadata": {
        "id": "esInVDq7L9hT"
      },
      "source": [
        "Let's see the class balance of our dataset:"
      ]
    },
    {
      "cell_type": "code",
      "execution_count": 70,
      "metadata": {
        "id": "Si3OFQe7L9hU",
        "outputId": "a0b027cb-3573-4559-ed4a-fa72e4667c12",
        "colab": {
          "base_uri": "https://localhost:8080/",
          "height": 399
        }
      },
      "outputs": [
        {
          "output_type": "display_data",
          "data": {
            "text/plain": [
              "<Figure size 3500x400 with 1 Axes>"
            ],
            "image/png": "[encoded data removed]"
          },
          "metadata": {}
        }
      ],
      "source": [
        "# plot emotions\n",
        "plt.figure(figsize=(35,4))\n",
        "plt.subplot(1,3,1)\n",
        "#np.unique returns ordered list of unique elements and count of each element\n",
        "emotion_list, count = np.unique(emotions, return_counts=True)\n",
        "plt.bar(x=range(8), height=count)\n",
        "plt.xticks(ticks=range(8), labels = [emotion for emotion in emotion_list],fontsize=10)\n",
        "plt.xlabel('Emotion')\n",
        "plt.tick_params(labelsize=16)\n",
        "plt.ylabel('Number of Samples')\n",
        "plt.show()"
      ]
    },
    {
      "cell_type": "markdown",
      "metadata": {
        "id": "Mw_wKC8WL9hV"
      },
      "source": [
        "**Great, the classes appear to be balanced. That makes the task easier.** All emotions _except_ the neutral class have a \"strong\" intensity so there are half as many neutral samples. That might have an impact."
      ]
    },
    {
      "cell_type": "markdown",
      "metadata": {
        "id": "WhtlYshOL9hV"
      },
      "source": [
        "### Feature Scaling\n",
        "To properly train most machine learning models on _most_ datasets, we first need to scale our features. **This is crucial for models which compute distances between data, and especially critical for DNNs**: If there is a difference in the variance of features simply because of their possible range of values, then a model will learn that the features with the greatest variance are the most important. However, **differences in the variance of unscaled features belonging to different and unknown distributions is an inappropriate measure of importance.** Let's check our features' properties:"
      ]
    },
    {
      "cell_type": "code",
      "execution_count": 71,
      "metadata": {
        "id": "_IUm1DLwL9hW",
        "outputId": "fa82cefe-455a-48a9-beab-4a810a2f8ff6",
        "colab": {
          "base_uri": "https://localhost:8080/"
        }
      },
      "outputs": [
        {
          "output_type": "stream",
          "name": "stdout",
          "text": [
            "12 Chromagram features:           min = 0.000,     max = 0.874,     mean = 0.664,     deviation = 0.094\n",
            "\n",
            "128 Mel Spectrogram features:     min = 0.000,     max = 149.208,     mean = 0.187,     deviation = 1.598\n",
            "\n",
            "40 MFCC features:                 min = -873.242,    max = 115.126,    mean = -14.575,    deviation = 98.324\n"
          ]
        }
      ],
      "source": [
        "# We would usually use df.describe(), but it provides a bit of a mess of information we don't need at the moment.\n",
        "def print_features(df):\n",
        "    # Check chromagram feature values\n",
        "    features_df_chromagram = df.loc[:,:11]\n",
        "    chroma_min = features_df_chromagram.min().min()\n",
        "    chroma_max = features_df_chromagram.max().max()\n",
        "    # stack all features into a single series so we don't get a mean of means or stdev of stdevs\n",
        "    chroma_mean = features_df_chromagram.stack().mean()\n",
        "    chroma_stdev = features_df_chromagram.stack().std()\n",
        "    print(f'12 Chromagram features:       \\\n",
        "    min = {chroma_min:.3f}, \\\n",
        "    max = {chroma_max:.3f}, \\\n",
        "    mean = {chroma_mean:.3f}, \\\n",
        "    deviation = {chroma_stdev:.3f}')\n",
        "\n",
        "    # Check mel spectrogram feature values\n",
        "    features_df_melspectrogram = df.loc[:,12:139]\n",
        "    mel_min = features_df_melspectrogram.min().min()\n",
        "    mel_max = features_df_melspectrogram.max().max()\n",
        "    # stack all features into a single series so we don't get a mean of means or stdev of stdevs\n",
        "    mel_mean = features_df_melspectrogram.stack().mean()\n",
        "    mel_stdev = features_df_melspectrogram.stack().std()\n",
        "    print(f'\\n128 Mel Spectrogram features: \\\n",
        "    min = {mel_min:.3f}, \\\n",
        "    max = {mel_max:.3f}, \\\n",
        "    mean = {mel_mean:.3f}, \\\n",
        "    deviation = {mel_stdev:.3f}')\n",
        "\n",
        "    # Check MFCC feature values\n",
        "    features_df_mfcc = df.loc[:,140:179]\n",
        "    mfcc_min = features_df_mfcc.min().min()\n",
        "    mfcc_max = features_df_mfcc.max().max()\n",
        "    # stack all features into a single series so we don't get a mean of means or stdev of stdevs\n",
        "    mfcc_mean = features_df_mfcc.stack().mean()\n",
        "    mfcc_stdev = features_df_mfcc.stack().std()\n",
        "    print(f'\\n40 MFCC features:             \\\n",
        "    min = {mfcc_min:.3f},\\\n",
        "    max = {mfcc_max:.3f},\\\n",
        "    mean = {mfcc_mean:.3f},\\\n",
        "    deviation = {mfcc_stdev:.3f}')\n",
        "\n",
        "print_features(features_df)"
      ]
    },
    {
      "cell_type": "code",
      "source": [
        "# Print My Voice File Features\n",
        "def print_my_features(df):\n",
        "    # Check chromagram feature values\n",
        "    features_df_chromagram = df.loc[:,:11]\n",
        "    chroma_min = features_df_chromagram.min().min()\n",
        "    chroma_max = features_df_chromagram.max().max()\n",
        "    # stack all features into a single series so we don't get a mean of means or stdev of stdevs\n",
        "    chroma_mean = features_df_chromagram.stack().mean()\n",
        "    chroma_stdev = features_df_chromagram.stack().std()\n",
        "    print(f'12 Chromagram features:       \\\n",
        "    min = {chroma_min:.3f}, \\\n",
        "    max = {chroma_max:.3f}, \\\n",
        "    mean = {chroma_mean:.3f}, \\\n",
        "    deviation = {chroma_stdev:.3f}')\n",
        "\n",
        "    # Check mel spectrogram feature values\n",
        "    features_df_melspectrogram = df.loc[:,12:139]\n",
        "    mel_min = features_df_melspectrogram.min().min()\n",
        "    mel_max = features_df_melspectrogram.max().max()\n",
        "    # stack all features into a single series so we don't get a mean of means or stdev of stdevs\n",
        "    mel_mean = features_df_melspectrogram.stack().mean()\n",
        "    mel_stdev = features_df_melspectrogram.stack().std()\n",
        "    print(f'\\n128 Mel Spectrogram features: \\\n",
        "    min = {mel_min:.3f}, \\\n",
        "    max = {mel_max:.3f}, \\\n",
        "    mean = {mel_mean:.3f}, \\\n",
        "    deviation = {mel_stdev:.3f}')\n",
        "\n",
        "    # Check MFCC feature values\n",
        "    features_df_mfcc = df.loc[:,140:179]\n",
        "    mfcc_min = features_df_mfcc.min().min()\n",
        "    mfcc_max = features_df_mfcc.max().max()\n",
        "    # stack all features into a single series so we don't get a mean of means or stdev of stdevs\n",
        "    mfcc_mean = features_df_mfcc.stack().mean()\n",
        "    mfcc_stdev = features_df_mfcc.stack().std()\n",
        "    print(f'\\n40 MFCC features:             \\\n",
        "    min = {mfcc_min:.3f},\\\n",
        "    max = {mfcc_max:.3f},\\\n",
        "    mean = {mfcc_mean:.3f},\\\n",
        "    deviation = {mfcc_stdev:.3f}')\n",
        "\n",
        "print_my_features(my_features_df)"
      ],
      "metadata": {
        "id": "3ha1FxBSCpqA",
        "outputId": "44cfe531-7954-449b-ea44-dfab441b296f",
        "colab": {
          "base_uri": "https://localhost:8080/"
        }
      },
      "execution_count": 73,
      "outputs": [
        {
          "output_type": "stream",
          "name": "stdout",
          "text": [
            "12 Chromagram features:           min = 0.507,     max = 0.848,     mean = 0.666,     deviation = 0.070\n",
            "\n",
            "128 Mel Spectrogram features:     min = 0.000,     max = 6.360,     mean = 0.161,     deviation = 0.581\n",
            "\n",
            "40 MFCC features:                 min = -504.643,    max = 122.921,    mean = -8.409,    deviation = 77.282\n"
          ]
        }
      ]
    },
    {
      "cell_type": "markdown",
      "metadata": {
        "id": "gFgQlYSlL9hW"
      },
      "source": [
        "**There's an obvious imbalance in the variance our features; Our features indeed belong to very different distributions:** our MFC coefficients' deviation is greater than the other features by orders of magnitude. That does not mean MFC coefficients are the most important feature, but rather it is a property of the way they are computed.  We will certainly need to scale this feature set.\n",
        "\n",
        "We have the choice of sklearn's StandardScaler and MinMaxScaler. Standard scaling subtracts the mean of each feature and divides it by the standard deviation of that feature, producing features with mean at zero and unit variance - that is, a variance and standard deviation of 1. Min-Max scaling transforms each feature to be within a bounded interval that we specify.\n",
        "\n",
        "In practice, **MinMax scaling is especially useful when we know our features should be in a bounded interval**, such as pixel values in [0,255], while **standard scaling is perhaps more practical for features with unknown distributions** because centering the features at zero-mean with a standard deviation of 1 means extreme values will have less of an impact on the model's learned weights, i.e. the model is less sensitive to outliers.\n",
        "\n",
        "We'll create MinMax scaled features as well so we can give them a try later on to confirm that standard scaling is better in the absence of knowledge on the appropriate distribution for a dataset's features."
      ]
    },
    {
      "cell_type": "code",
      "execution_count": 74,
      "metadata": {
        "id": "_BCAYVEUL9hW"
      },
      "outputs": [],
      "source": [
        "from sklearn.preprocessing import StandardScaler\n",
        "from sklearn.preprocessing import MinMaxScaler\n",
        "\n",
        "scaler = StandardScaler()\n",
        "# keep our unscaled features just in case we need to process them alternatively\n",
        "features_scaled = features\n",
        "features_scaled = scaler.fit_transform(features_scaled)\n",
        "\n",
        "scaler = MinMaxScaler()\n",
        "# keep our unscaled features just in case we need to process them alternatively\n",
        "features_minmax = features\n",
        "features_minmax = scaler.fit_transform(features_minmax)"
      ]
    },
    {
      "cell_type": "code",
      "source": [
        "# scale my feature\n",
        "scaler = StandardScaler()\n",
        "# keep our unscaled features just in case we need to process them alternatively\n",
        "my_features_scaled = my_features\n",
        "my_features_scaled = scaler.fit_transform(my_features_scaled)\n",
        "\n",
        "scaler = MinMaxScaler()\n",
        "# keep our unscaled features just in case we need to process them alternatively\n",
        "my_features_minmax = my_features\n",
        "my_features_minmax = scaler.fit_transform(my_features_minmax)"
      ],
      "metadata": {
        "id": "6bKNKoxHCVRf"
      },
      "execution_count": 75,
      "outputs": []
    },
    {
      "cell_type": "markdown",
      "metadata": {
        "id": "r4ATx5oNL9hX"
      },
      "source": [
        "Make sure our features are properly scaled:"
      ]
    },
    {
      "cell_type": "code",
      "execution_count": 76,
      "metadata": {
        "id": "mlRuHQkKL9hX",
        "outputId": "ffedb4a0-6fe8-4a06-bd46-3ef9d166ff34",
        "colab": {
          "base_uri": "https://localhost:8080/"
        }
      },
      "outputs": [
        {
          "output_type": "stream",
          "name": "stdout",
          "text": [
            "\u001b[1mStandard Scaling:\n",
            "\u001b[0m\n",
            "12 Chromagram features:           min = -7.974,     max = 2.364,     mean = 0.000,     deviation = 1.000\n",
            "\n",
            "128 Mel Spectrogram features:     min = -0.474,     max = 36.531,     mean = -0.000,     deviation = 1.000\n",
            "\n",
            "40 MFCC features:                 min = -4.304,    max = 6.238,    mean = -0.000,    deviation = 1.000\n",
            "\n",
            "\n",
            "\u001b[1mMinMax Scaling:\n",
            "\u001b[0m\n",
            "12 Chromagram features:           min = 0.000,     max = 1.000,     mean = 0.782,     deviation = 0.110\n",
            "\n",
            "128 Mel Spectrogram features:     min = 0.000,     max = 1.000,     mean = 0.015,     deviation = 0.061\n",
            "\n",
            "40 MFCC features:                 min = 0.000,    max = 1.000,    mean = 0.404,    deviation = 0.166\n"
          ]
        }
      ],
      "source": [
        "print('\\033[1m'+'Standard Scaling:\\n'+'\\033[0m')\n",
        "features_scaled_df = pd.DataFrame(features_scaled)\n",
        "print_features(features_scaled_df)\n",
        "\n",
        "print('\\n\\n\\033[1m'+'MinMax Scaling:\\n'+'\\033[0m')\n",
        "features_minmax_df = pd.DataFrame(features_minmax)\n",
        "print_features(features_minmax_df)"
      ]
    },
    {
      "cell_type": "markdown",
      "metadata": {
        "id": "vZfzIh7DL9hX"
      },
      "source": [
        "Perfect. Zero mean and unit variance for standard scaling and in the range [0,1] for MinMax scaling - a default when we don't specify values. We can now move on to building predictive models for these features."
      ]
    },
    {
      "cell_type": "markdown",
      "metadata": {
        "id": "z5tXewLEL9hX"
      },
      "source": [
        "## Classical Machine Learning Models\n",
        "\n",
        "\n",
        "Classical machine learning models encompass a broad range of algorithms that have been foundational to the field's development and are still widely used for various predictive tasks. These models can be broadly categorized into supervised and unsupervised learning methods, each suited for different kinds of data and objectives.\n",
        "\n",
        "We will be looking into few popular Machine Learning Algorithms such as Support Vector Machine(SVM), K-Nearest Neighbors and Random Forest Classifier. There are many other classical models with their own strengths and weaknesses, and the choice of model depends on the specific requirements of the task, including the nature of the data, the complexity of the problem, and the computational efficiency required. Despite the rise of deep learning, classical machine learning models remain vital tools in a data scientist's arsenal due to their efficiency, interpretability, and strong performance in many scenarios.\n",
        "\n",
        "The use of classic machine learning method is due to the small size of our dataset; Some of the most robust models such as Support vector (machine) classifiers **(SVC) and k-Nearest-Neighbour classifiers (kNN) are particularly suited to smaller datasets and fall apart with huge datasets.**\n"
      ]
    },
    {
      "cell_type": "markdown",
      "metadata": {
        "id": "jwU-jXSGL9hY"
      },
      "source": [
        "### Training: The 80/20 Split and Validation\n",
        "In order to compare models, we'll have to evaluate their performance. The simplest method to do so is to train a model on a portion of our dataset and test it on the remainder. We'll use sklearn's train_test_split to create a standard 80/20 train/test split. The model is fit on 80% of\n",
        "the data and tested for performance against 20% of the data, which it has never seen in training - also called the hold-out set.\n",
        " <img src=\"https://github.com/IAT-ExploringAI-2024/Week3-Machine_Learning/blob/main/images/Capture2.PNG?raw=true\" width=\"800\">\n",
        "\n",
        "More accurately, the proper modality for training and scoring a model is to\n",
        "1. Fit/train our model on a _training_ set,\n",
        "2. Evaluate the model on a _validation_ set to tune the hyperparameters for better performance,\n",
        "3. Finally score our model's true performance - its **generalizability** - against a _test_ set, aka the hold-out set.\n",
        "4. Repeat from 2. **Do not tune the model to score well on the test set**. Only evaluate on test-set once.\n",
        "\n",
        "Different set ratios are used in this approach - a usual example is 60/20/20 train/validation/test.For simplicity, we're going to start with an 80/20 train/test split. The model will be trained on all the training data, and we will check its performance on the test data. We'll skip validation for now.\n",
        "\n",
        " <img src=\"https://github.com/IAT-ExploringAI-2024/Week3-ClassicML/blob/main/images/traintestsplit.PNG?raw=true\" width=\"800\">\n",
        "\n",
        "Define unscaled and scaled training and test sets:"
      ]
    },
    {
      "cell_type": "code",
      "execution_count": 77,
      "metadata": {
        "id": "8jGN4ROVL9hY"
      },
      "outputs": [],
      "source": [
        "from sklearn.model_selection import train_test_split\n",
        "\n",
        "\n",
        "############# Unscaled test/train set #############\n",
        "X_train, X_test, y_train, y_test =train_test_split(\n",
        "    features,\n",
        "    emotions,\n",
        "    test_size=0.2,\n",
        "    random_state=42\n",
        ")\n",
        "\n",
        "############ Standard Scaled test/train set ###########\n",
        "# The labels/classes (y_train, y_test) never change, keep old values\n",
        "X_train_scaled, X_test_scaled, _, _ = train_test_split(\n",
        "    features_scaled,\n",
        "    emotions,\n",
        "    test_size=0.2,\n",
        "    random_state=42\n",
        ")\n",
        "\n",
        "############# MinMax Scaled test/train set ###############\n",
        "# The labels/classes (y_train, y_test) never change, keep old values\n",
        "X_train_minmax, X_test_minmax, _, _ = train_test_split(\n",
        "    features_scaled,\n",
        "    emotions,\n",
        "    test_size=0.2,\n",
        "    random_state=42\n",
        ")"
      ]
    },
    {
      "cell_type": "markdown",
      "metadata": {
        "id": "Q3Mh0RrEL9hY"
      },
      "source": [
        "### Comparing Models\n",
        "We'll try each off-the-shelf machine learning model from sklearn and pick a few to explore, since these models will train near instantly on this dataset."
      ]
    },
    {
      "cell_type": "code",
      "execution_count": 78,
      "metadata": {
        "scrolled": true,
        "id": "iLPeyR7vL9he",
        "outputId": "d3814af1-bd7e-41cb-9030-78dee629bf36",
        "colab": {
          "base_uri": "https://localhost:8080/",
          "height": 300
        }
      },
      "outputs": [
        {
          "output_type": "execute_result",
          "data": {
            "text/plain": [
              "                      Classifier Accuracy Score\n",
              "4         RandomForestClassifier         61.11%\n",
              "0           KNeighborsClassifier         56.25%\n",
              "1                            SVC         52.43%\n",
              "2                 SVC RBF kernel         50.69%\n",
              "3         DecisionTreeClassifier         40.28%\n",
              "6                     GaussianNB         31.60%\n",
              "5             AdaBoostClassifier         30.56%\n",
              "7  QuadraticDiscriminantAnalysis         23.96%"
            ],
            "text/html": [
              "<div>\n",
              "<style scoped>\n",
              "    .dataframe tbody tr th:only-of-type {\n",
              "        vertical-align: middle;\n",
              "    }\n",
              "\n",
              "    .dataframe tbody tr th {\n",
              "        vertical-align: top;\n",
              "    }\n",
              "\n",
              "    .dataframe thead th {\n",
              "        text-align: right;\n",
              "    }\n",
              "</style>\n",
              "<table border=\"1\" class=\"dataframe\">\n",
              "  <thead>\n",
              "    <tr style=\"text-align: right;\">\n",
              "      <th></th>\n",
              "      <th>Classifier</th>\n",
              "      <th>Accuracy Score</th>\n",
              "    </tr>\n",
              "  </thead>\n",
              "  <tbody>\n",
              "    <tr>\n",
              "      <th>4</th>\n",
              "      <td>RandomForestClassifier</td>\n",
              "      <td>61.11%</td>\n",
              "    </tr>\n",
              "    <tr>\n",
              "      <th>0</th>\n",
              "      <td>KNeighborsClassifier</td>\n",
              "      <td>56.25%</td>\n",
              "    </tr>\n",
              "    <tr>\n",
              "      <th>1</th>\n",
              "      <td>SVC</td>\n",
              "      <td>52.43%</td>\n",
              "    </tr>\n",
              "    <tr>\n",
              "      <th>2</th>\n",
              "      <td>SVC RBF kernel</td>\n",
              "      <td>50.69%</td>\n",
              "    </tr>\n",
              "    <tr>\n",
              "      <th>3</th>\n",
              "      <td>DecisionTreeClassifier</td>\n",
              "      <td>40.28%</td>\n",
              "    </tr>\n",
              "    <tr>\n",
              "      <th>6</th>\n",
              "      <td>GaussianNB</td>\n",
              "      <td>31.60%</td>\n",
              "    </tr>\n",
              "    <tr>\n",
              "      <th>5</th>\n",
              "      <td>AdaBoostClassifier</td>\n",
              "      <td>30.56%</td>\n",
              "    </tr>\n",
              "    <tr>\n",
              "      <th>7</th>\n",
              "      <td>QuadraticDiscriminantAnalysis</td>\n",
              "      <td>23.96%</td>\n",
              "    </tr>\n",
              "  </tbody>\n",
              "</table>\n",
              "</div>"
            ]
          },
          "metadata": {},
          "execution_count": 78
        }
      ],
      "source": [
        "from sklearn.neighbors import KNeighborsClassifier\n",
        "from sklearn.svm import SVC\n",
        "from sklearn.tree import DecisionTreeClassifier\n",
        "from sklearn.ensemble import RandomForestClassifier, AdaBoostClassifier\n",
        "from sklearn.naive_bayes import GaussianNB\n",
        "from sklearn.discriminant_analysis import QuadraticDiscriminantAnalysis\n",
        "\n",
        "classification_models = [\n",
        "    KNeighborsClassifier(),#(3),\n",
        "    SVC(kernel='linear'),#, C=0.025),\n",
        "    SVC(kernel='rbf'),\n",
        "    DecisionTreeClassifier(),#max_depth=5),\n",
        "    RandomForestClassifier(),#max_depth=5, n_estimators=10, max_features=1),\n",
        "    AdaBoostClassifier(),\n",
        "    GaussianNB(),\n",
        "    QuadraticDiscriminantAnalysis()]\n",
        "\n",
        "scores = []\n",
        "for model in classification_models:\n",
        "    model.fit(X_train_scaled, y_train)\n",
        "    score = model.score(X_test_scaled, y_test)\n",
        "    model_name = type(model).__name__\n",
        "    if model_name=='SVC' and model.kernel=='rbf': model_name+=' RBF kernel'\n",
        "    scores.append((model_name,(f'{100*score:.2f}%')))\n",
        "# Make it pretty\n",
        "scores_df = pd.DataFrame(scores,columns=['Classifier','Accuracy Score'])\n",
        "scores_df.sort_values(by='Accuracy Score',axis=0,ascending=False)"
      ]
    },
    {
      "cell_type": "markdown",
      "metadata": {
        "id": "JrD98CpPL9he"
      },
      "source": [
        "Let's pick the top three - Random Forests, SVC, and kNN - and take a closer look at each of them."
      ]
    },
    {
      "cell_type": "markdown",
      "metadata": {
        "id": "4dBNoEolL9hf"
      },
      "source": [
        "### The Support Vector Machine Classifier\n",
        "\n",
        "We'll go in chronological order. First is the support vector machine classifier (SVC) - a model from the 60s. SVMs are models quick to train for this task and best suited to small datasets due to its quadratic time complexity w.r.t. size of the training dataset (# of training samples). This is also the reason it breaks down with larger datasets since it becomes very expensive to train.\n",
        "\n",
        "The idea behind SVMs on which the SVC model is based is to find a separating hyperplane - a subspace with dimension one less than that of the feature space - for points in our feature space; i.e. for a 3D space, a hyperplane is a regular plane, in 2D, a line. This idea extends to n dimensions. If points are separable by a hyperplane, they are said to be linearly separable. **Since there are infinite possible separating hyperplanes for any linearly separable feature space, an SVM computes which points are closest to each such hyperplane and uses them to construct a _support vector_. The SVM picks the hyperplane which maximizes the distance - _margin_ - to each support vector.** In this way, we maximize the separating ability of the chosen hyperplane.\n",
        "\n",
        "The core of SVMs is the kernel. We could map all new points from our input space, where they were not separable by a hyperplane, to a higher dimension in which we have found a hyperplane to separate the points in that space. However, that would be extremely computationally expensive for data that needs to be mapped to much higher dimensions. Instead, we **compute the hyperplane in the higher dimension on our training data and map the hyperplane back to the lower-dimension input space to use for classifying our data. This is the _kernel trick_, whereby the kernel (function) enables us to compute distances to new points in the input space without transforming each to the higher dimensional space - drastically reducing the computational complexity of the SVM.**\n",
        "\n",
        " <img src=\"https://github.com/IAT-ExploringAI-2024/Week3-Machine_Learning/blob/main/images/kernel1.png?raw=true\" width=\"800\">"
      ]
    },
    {
      "cell_type": "markdown",
      "metadata": {
        "id": "r-VTE6HjL9hf"
      },
      "source": [
        "A linear kernel should always be tested because **a linear kernel is much faster to train than a non-linear kernel**; however, properly tuned, a non-linear kernel often provides the best possible predictive performance. **RBF (radial basis function) is a good default to use for a non-linear kernel** and often is the best non-linear kernel because it usually provides a higher accuracy compared to other non-linear kernels at the cost of higher computational complexity. We can afford to try the RBF kernel because our dataset is small.\n",
        "\n",
        "If you want to explore further please have a look at [this article](https://www.analyticsvidhya.com/blog/2021/10/support-vector-machinessvm-a-complete-guide-for-beginners/)"
      ]
    },
    {
      "cell_type": "code",
      "execution_count": 84,
      "metadata": {
        "id": "ruBbt50ML9hf",
        "outputId": "e377869e-1fc1-4d16-a7f5-fac5723734e0",
        "colab": {
          "base_uri": "https://localhost:8080/"
        }
      },
      "outputs": [
        {
          "output_type": "stream",
          "name": "stdout",
          "text": [
            "SVC Model's accuracy on training set is 89.57%\n",
            "SVC Model's accuracy on test set is 68.40%\n",
            "SVC Model's accuracy on test set is 12.50%\n"
          ]
        }
      ],
      "source": [
        "from sklearn.svm import SVC\n",
        "\n",
        "model = SVC(\n",
        "    C=10,  #higher the value tighter the margin\n",
        "    gamma='auto',\n",
        "    kernel='rbf',\n",
        "    random_state=42\n",
        ")\n",
        "\n",
        "model.fit(X_train_minmax, y_train)\n",
        "\n",
        "print(f'SVC Model\\'s accuracy on training set is {100*model.score(X_train_minmax, y_train):.2f}%')\n",
        "print(f'SVC Model\\'s accuracy on test set is {100*model.score(X_test_minmax, y_test):.2f}%')\n",
        "\n",
        "\n",
        "\n",
        "print(f'SVC Model\\'s accuracy on test set is {100*model.score(my_features, my_emotions):.2f}%')"
      ]
    },
    {
      "cell_type": "code",
      "source": [],
      "metadata": {
        "id": "GDd-Wu43D7Ny"
      },
      "execution_count": null,
      "outputs": []
    },
    {
      "cell_type": "markdown",
      "metadata": {
        "id": "PIm1a-tiL9hg"
      },
      "source": [
        "Not bad at all for the relatively simple SVC model. **Hyperparameter 𝐶 regulates the margin.** It might do well to optimize the SVC model further if we don't find a better one. As it stands, we are looking for considerably higher performance in this task.\n",
        "\n",
        "Check out [this link](https://towardsdatascience.com/visualizing-the-effect-of-hyperparameters-on-support-vector-machines-b9eef6f7357b) for visual representation of affect of changes in C and gamma."
      ]
    },
    {
      "cell_type": "markdown",
      "metadata": {
        "id": "j72LJRfCL9hg"
      },
      "source": [
        "### k Nearest Neighbours\n",
        "\n",
        "k Nearest Neighbours (kNN) is next in line, a tried-and-true machine learning method from the 70s. kNN makes a lot of intuitive sense: imagine plotting points on a graph and drawing gates around points that look like they belong to the same group. That's what it is - we **plot our training samples' features and compare a test sample's features' distance to all those points; then just take the _k_ closest points to the test sample and pick the most frequent label/class.** That's it.\n",
        "\n",
        "kNN is a great starting point for multiclass problems with small datasets, although on large dadtasets less reliable and extremely memory hungry (it stores all training sample points). kNN is also useful in that it makes **no assumptions about the underlying distribution of the data set - so kNNs work well for both linear and non-linear data.** In the 2D example:\n",
        "\n",
        "<img src=\"https://github.com/IAT-ExploringAI-2024/Week3-ClassicML/blob/main/images/knn.png?raw=true\" width=400 height=400 />"
      ]
    },
    {
      "cell_type": "code",
      "execution_count": 85,
      "metadata": {
        "id": "qaeCneMiL9hg",
        "outputId": "3883d388-7de5-4a92-83bb-354783abebb4",
        "colab": {
          "base_uri": "https://localhost:8080/"
        }
      },
      "outputs": [
        {
          "output_type": "stream",
          "name": "stdout",
          "text": [
            "Default kNN Model's accuracy on training set is 77.32%\n",
            "Default kNN Model's accuracy on test set is 56.25%\n",
            "\n",
            "kNN Model's accuracy on training set is 99.74%\n",
            "kNN Model's accuracy on test set is 61.81%\n",
            "kNN Model's accuracy on test set is 12.50%\n"
          ]
        }
      ],
      "source": [
        "from sklearn.neighbors import KNeighborsClassifier\n",
        "\n",
        "####### Default kNN  ########\n",
        "model = KNeighborsClassifier(\n",
        ")\n",
        "\n",
        "model.fit(X_train_minmax, y_train)\n",
        "\n",
        "print(f'Default kNN Model\\'s accuracy on training set is {100*model.score(X_train_minmax, y_train):.2f}%')\n",
        "print(f'Default kNN Model\\'s accuracy on test set is {100*model.score(X_test_minmax, y_test):.2f}%\\n')\n",
        "\n",
        "##### (hastily) tuned kNN ######\n",
        "model = KNeighborsClassifier(\n",
        "    n_neighbors = 5,\n",
        "    weights = 'distance',\n",
        "    algorithm = 'brute',\n",
        "    n_jobs=4\n",
        ")\n",
        "\n",
        "model.fit(X_train_minmax, y_train)\n",
        "\n",
        "print(f'kNN Model\\'s accuracy on training set is {100*model.score(X_train_minmax, y_train):.2f}%')\n",
        "print(f'kNN Model\\'s accuracy on test set is {100*model.score(X_test_minmax, y_test):.2f}%')\n",
        "\n",
        "print(f'kNN Model\\'s accuracy on test set is {100*model.score(my_features, my_emotions):.2f}%')"
      ]
    },
    {
      "cell_type": "markdown",
      "metadata": {
        "id": "BxVEKUyiL9hh"
      },
      "source": [
        "**The brute-force algorithm computes distances between all pairs of points in the training set; works especially well for small datasets** but wildly inefficient w.r.t. increasing samples and feature space dimension. Not bad for 2 minutes of work, but still not suitable for this task."
      ]
    },
    {
      "cell_type": "markdown",
      "metadata": {
        "id": "zvQ3av4cL9hh"
      },
      "source": [
        "### Random Forests\n",
        "Finally, and before resorting to deep learning methods, let's try a Random Forest -  a model from the 21st century (2001). **We train many distinct decision trees which are essentially directed acyclic graphs (DAGs), somewhat similar to a flow chart. The collection of (decision) trees makes up our Random Forest.**\n",
        "\n",
        "At each node of the tree we have a function (a rule) that evaluates whether the features of samples input to that node belong to one class or another. Each branch of the tree (or, edge of the graph) defines one of two possible results from a node, and each leaf is one of two decisions made by its parent node. **Each tree in the forest evaluates a random subset of the training samples' features and has a rule at each level of the tree that classifies based on these random features - hence, _Random_ Forest. This random selection of features makes Random Forests robust to outliers**, as such features will have less of an impact in the scope of the entire forest, most of whose trees operate on the \"real\" features.\n",
        "\n",
        "**Random Forests are excellent models to use as a benchmark due to their low time complexity to train and because it is an ensemble method, their robustness to unknown distributions and outliers in the dataset,** meaning Random Forests require relatively little exploratory analysis in both the data and training the model to get an idea of their performance in a task.\n",
        "\n",
        "<img src=\"https://github.com/IliaZenkov/sklearn-audio-classification/blob/master/img/randomforest.png?raw=true\" width=500 height=500 />"
      ]
    },
    {
      "cell_type": "code",
      "execution_count": 86,
      "metadata": {
        "id": "j9BWmcV9L9hh",
        "outputId": "d1d5644d-b507-4166-e797-72054b725ab6",
        "colab": {
          "base_uri": "https://localhost:8080/"
        }
      },
      "outputs": [
        {
          "output_type": "stream",
          "name": "stdout",
          "text": [
            "Default Random Forest Model's accuracy on training set is 99.74%\n",
            "Default Random Forest Model's accuracy on test set is 58.68%\n",
            "\n",
            "Random Forest Model's accuracy on training set is 99.74%\n",
            "Random Forest Model's accuracy on test set is 61.46%\n",
            "Random Forest Model's accuracy on test set is 12.50%\n"
          ]
        }
      ],
      "source": [
        "from sklearn.ensemble import RandomForestClassifier\n",
        "\n",
        "####### Default Random Forest ########\n",
        "model = RandomForestClassifier(\n",
        "    random_state=69\n",
        ")\n",
        "\n",
        "model.fit(X_train_minmax, y_train)\n",
        "\n",
        "print(f'Default Random Forest Model\\'s accuracy on training set is {100*model.score(X_train_minmax, y_train):.2f}%')\n",
        "print(f'Default Random Forest Model\\'s accuracy on test set is {100*model.score(X_test_minmax, y_test):.2f}%\\n')\n",
        "\n",
        "\n",
        "########## Tuned Random Forest #######\n",
        "model = RandomForestClassifier(\n",
        "    n_estimators = 500,\n",
        "    criterion ='entropy',\n",
        "    warm_start = True,\n",
        "    max_features = 'sqrt',\n",
        "    oob_score = True, # more on this below\n",
        "    random_state=42\n",
        ")\n",
        "\n",
        "model.fit(X_train_minmax, y_train)\n",
        "\n",
        "print(f'Random Forest Model\\'s accuracy on training set is {100*model.score(X_train_minmax, y_train):.2f}%')\n",
        "print(f'Random Forest Model\\'s accuracy on test set is {100*model.score(X_test_minmax, y_test):.2f}%')\n",
        "\n",
        "print(f'Random Forest Model\\'s accuracy on test set is {100*model.score(my_features, my_emotions):.2f}%')"
      ]
    },
    {
      "cell_type": "markdown",
      "metadata": {
        "id": "vM9-k8KLL9hi"
      },
      "source": [
        "Not bad for zero effort put into the default model. **Random Forests make a good benchmark model**, especially when strapped for time.\n",
        "\n",
        "**_Max features_ defines size of random feature subset decided upon at each node; sqrt(#features) is a good default for classification.**\n",
        "\n",
        "**_Gini_ and _Entropy_ are functions computing quality of classified samples within each node; they almost always provide similar performance but Entropy is more suited to classification while Gini is better for continuous variables.**\n"
      ]
    },
    {
      "cell_type": "markdown",
      "metadata": {
        "id": "DnhnxuGXL9hi"
      },
      "source": [
        "\n",
        "As wonderful as Random Forests are, it's clear that we're going to need to pull out bigger guns if we want to get appreciable performance on this dataset, perhaps even with good generalizability on test data. DNNs(Deep Neural Networks) are the next step-up in complexity from classical machine learning models, and we will start at the first rung on that ladder:Simple Perceptron in next lab!"
      ]
    }
  ],
  "metadata": {
    "kernelspec": {
      "display_name": "PyCharm (Speech Classifier)",
      "language": "python",
      "name": "pycharm-6a34225"
    },
    "language_info": {
      "codemirror_mode": {
        "name": "ipython",
        "version": 3
      },
      "file_extension": ".py",
      "mimetype": "text/x-python",
      "name": "python",
      "nbconvert_exporter": "python",
      "pygments_lexer": "ipython3",
      "version": "3.8.3"
    },
    "colab": {
      "provenance": [],
      "include_colab_link": true
    }
  },
  "nbformat": 4,
  "nbformat_minor": 0
}